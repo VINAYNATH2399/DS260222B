{
 "cells": [
  {
   "cell_type": "code",
   "execution_count": 4,
   "id": "4f0a4b75",
   "metadata": {},
   "outputs": [
    {
     "name": "stdout",
     "output_type": "stream",
     "text": [
      "salary for this employee working in Google is 100000\n",
      " Thanks\n",
      "Good Moring, Sir\n"
     ]
    }
   ],
   "source": [
    "class Employee:\n",
    "    company = \"Google\"\n",
    "    def getSalary(self,signature):\n",
    "        print(f\"salary for this employee working in {self.company} is {self.salary}\\n {signature}\")\n",
    "    @staticmethod\n",
    "    def greet():\n",
    "        print(\"Good Moring, Sir\")\n",
    "vinay = Employee()\n",
    "vinay.salary = 100000\n",
    "vinay.getSalary(\"Thanks\")\n",
    "vinay.greet()              "
   ]
  },
  {
   "cell_type": "code",
   "execution_count": 23,
   "id": "c0cfaba6",
   "metadata": {},
   "outputs": [],
   "source": [
    "class Employee:\n",
    "    company = \"Google\"\n",
    "    def Salary(self):\n",
    "        self.Salary = Salary\n",
    "        self.signature = signature\n",
    "        self.age = age\n",
    "chintu = Employee()\n",
    "vinay = Employee()\n",
    "vinay.salary = 1000\n",
    "vinay.signature = \"vinay\"\n",
    "vinay.age = 22\n",
    "chintu.age = 23\n",
    "chintu.salary = 200"
   ]
  },
  {
   "cell_type": "code",
   "execution_count": 24,
   "id": "83b9f4f6",
   "metadata": {},
   "outputs": [
    {
     "name": "stdout",
     "output_type": "stream",
     "text": [
      "200\n"
     ]
    }
   ],
   "source": [
    "print(chintu.salary)"
   ]
  },
  {
   "cell_type": "code",
   "execution_count": 18,
   "id": "85b99a7c",
   "metadata": {},
   "outputs": [
    {
     "data": {
      "text/plain": [
       "1000"
      ]
     },
     "execution_count": 18,
     "metadata": {},
     "output_type": "execute_result"
    }
   ],
   "source": [
    "vinay.salary"
   ]
  },
  {
   "cell_type": "code",
   "execution_count": 1,
   "id": "4cf0aa03",
   "metadata": {},
   "outputs": [],
   "source": [
    "class Complex:\n",
    "    def __init__(self, real, compl):\n",
    "        self.real = real\n",
    "        self.compl = compl\n",
    "    \n",
    "    def __add__(self, other):\n",
    "        return Complex(self.real+other.real, self.compl + other.compl)\n",
    "    \n",
    "    def __sub__(self, other):\n",
    "        return Complex(self.real-other.real, self.compl-other.compl)"
   ]
  },
  {
   "cell_type": "code",
   "execution_count": 1,
   "id": "368e0d95",
   "metadata": {},
   "outputs": [
    {
     "name": "stdout",
     "output_type": "stream",
     "text": [
      "The name of the programmer bengali and the product is Github\n",
      "The name of the programmer alka and the product is Github\n"
     ]
    }
   ],
   "source": [
    "class programmer:\n",
    "    company = \"Microsoft\"\n",
    "    def __init__(self,name,product):\n",
    "        self.name = name\n",
    "        self.product = product\n",
    "    def getinfo(self):\n",
    "        print(f\"The name of the programmer {self.name} and the product is {self.product}\")\n",
    "vinay = programmer(\"vinay\",\"Github\")\n",
    "vinay =programmer(\"bengali\",\"Github\")\n",
    "alka= programmer(\"alka\",\"Github\")\n",
    "vinay.getinfo()\n",
    "alka.getinfo()"
   ]
  },
  {
   "cell_type": "code",
   "execution_count": 12,
   "id": "cba949ad",
   "metadata": {},
   "outputs": [
    {
     "name": "stdout",
     "output_type": "stream",
     "text": [
      "--------------------------------------------\n",
      "The name of the programmer is vinay and the product is Github\n",
      "The name of the programmer is Alka and the product is Github\n"
     ]
    }
   ],
   "source": [
    "class programmer:\n",
    "    company = \"Microsoft\"\n",
    "    def __init__(self,name,product):\n",
    "        self.name = name\n",
    "        self.product = product\n",
    "    def getinfo(self):\n",
    "        print(f\"The name of the programmer is {self.name} and the product is {self.product}\")\n",
    "print(\"--------------------------------------------\")        \n",
    "vinay = programmer(\"vinay\",\"Github\")\n",
    "alka = programmer(\"Alka\",\"Github\")\n",
    "vinay.getinfo()\n",
    "alka.getinfo()"
   ]
  },
  {
   "cell_type": "code",
   "execution_count": 25,
   "id": "01f96377",
   "metadata": {},
   "outputs": [
    {
     "name": "stdout",
     "output_type": "stream",
     "text": [
      "The cube of 81 is 6561\n",
      "The square of 81 is 531441\n",
      "The squareroot of 81 is 9.0\n"
     ]
    }
   ],
   "source": [
    "class calculator:\n",
    "    def __init__(self,number):\n",
    "        self.number = number\n",
    "    def cube(self):\n",
    "        print(f\"The cube of {self.number} is {self.number**2}\")\n",
    "        \n",
    "    \n",
    "    def square(self):\n",
    "        print(f\"The square of {self.number} is {self.number**3}\")\n",
    "        \n",
    "    def squareroot(self):\n",
    "        print(f\"The squareroot of {self.number} is {self.number**0.5}\")\n",
    "\n",
    "x = calculator(81)\n",
    "x.cube()\n",
    "x.square()\n",
    "x.squareroot()"
   ]
  },
  {
   "cell_type": "code",
   "execution_count": 29,
   "id": "022e292a",
   "metadata": {},
   "outputs": [
    {
     "name": "stdout",
     "output_type": "stream",
     "text": [
      "****WELCOME TO THE WORLD OF PYTHON****\n",
      "The cube of 81 is 6561\n",
      "The square of 81 is 531441\n",
      "The squareroot of 81 is 9.0\n"
     ]
    }
   ],
   "source": [
    "class calculator:\n",
    "    def __init__(self,number):\n",
    "        self.number = number\n",
    "    def cube(self):\n",
    "        print(f\"The cube of {self.number} is {self.number**2}\")\n",
    "        \n",
    "    \n",
    "    def square(self):\n",
    "        print(f\"The square of {self.number} is {self.number**3}\")\n",
    "        \n",
    "    def squareroot(self):\n",
    "        print(f\"The squareroot of {self.number} is {self.number**0.5}\")\n",
    "    \n",
    "    @staticmethod\n",
    "    \n",
    "    def greet():\n",
    "        print(\"****WELCOME TO THE WORLD OF PYTHON****\")\n",
    "\n",
    "x = calculator(81)\n",
    "x.greet()\n",
    "x.cube()\n",
    "x.square()\n",
    "x.squareroot()"
   ]
  },
  {
   "cell_type": "code",
   "execution_count": 4,
   "id": "feb86519",
   "metadata": {
    "scrolled": true
   },
   "outputs": [
    {
     "name": "stdout",
     "output_type": "stream",
     "text": [
      "The name of the train is Intersity Express\n",
      "The fare of the train Rs-90\n",
      "The number of seats available in Intersity Express is 300\n",
      "Your Ticket is Booked!Your seats number is 300\n",
      "The name of the train is Intersity Express\n",
      "The fare of the train Rs-90\n",
      "The number of seats available in Intersity Express is 299\n"
     ]
    }
   ],
   "source": [
    "class Train:\n",
    "    def __init__(self,name,fare,seats):\n",
    "        self.name = name\n",
    "        self.fare = fare\n",
    "        self.seats = seats\n",
    "    def getstatus(self):\n",
    "        print(f\"The name of the train is {self.name}\")\n",
    "        print(f\"The fare of the train Rs-{self.fare}\")\n",
    "    def getseats(self):\n",
    "        print(f\"The number of seats available in {self.name} is {self.seats}\")\n",
    "    def ticketbooking(self):\n",
    "        if(self.seats>0):\n",
    "            print(f\"Your Ticket is Booked!Your seats number is {self.seats}\")\n",
    "            self.seats = self.seats-1\n",
    "        else:\n",
    "             print(\"Sorry this Train is Full try another Train\")     \n",
    "                  \n",
    "intersity = Train(\"Intersity Express\",90,300)\n",
    "intersity.getstatus()\n",
    "intersity.getseats()\n",
    "intersity.ticketbooking()\n",
    "intersity.getstatus()\n",
    "intersity.getseats()"
   ]
  },
  {
   "cell_type": "code",
   "execution_count": 50,
   "id": "f227978c",
   "metadata": {},
   "outputs": [
    {
     "name": "stdout",
     "output_type": "stream",
     "text": [
      "The name of the train is intersity Express\n",
      "The seats available in the train are 50\n",
      "The price of the ticket is Rs-300\n"
     ]
    },
    {
     "ename": "TypeError",
     "evalue": "'>' not supported between instances of 'str' and 'int'",
     "output_type": "error",
     "traceback": [
      "\u001b[1;31m---------------------------------------------------------------------------\u001b[0m",
      "\u001b[1;31mTypeError\u001b[0m                                 Traceback (most recent call last)",
      "Input \u001b[1;32mIn [50]\u001b[0m, in \u001b[0;36m<cell line: 20>\u001b[1;34m()\u001b[0m\n\u001b[0;32m     18\u001b[0m intersity\u001b[38;5;241m.\u001b[39mgetstatus()\n\u001b[0;32m     19\u001b[0m intersity\u001b[38;5;241m.\u001b[39mfareinfo()\n\u001b[1;32m---> 20\u001b[0m \u001b[43mintersity\u001b[49m\u001b[38;5;241;43m.\u001b[39;49m\u001b[43mbookTicket\u001b[49m\u001b[43m(\u001b[49m\u001b[43m)\u001b[49m\n\u001b[0;32m     21\u001b[0m intersity\u001b[38;5;241m.\u001b[39mgetstatus()\n",
      "Input \u001b[1;32mIn [50]\u001b[0m, in \u001b[0;36mTrain.bookTicket\u001b[1;34m(self)\u001b[0m\n\u001b[0;32m     11\u001b[0m \u001b[38;5;28;01mdef\u001b[39;00m \u001b[38;5;21mbookTicket\u001b[39m(\u001b[38;5;28mself\u001b[39m):\n\u001b[1;32m---> 12\u001b[0m     \u001b[38;5;28;01mif\u001b[39;00m(\u001b[38;5;28;43mself\u001b[39;49m\u001b[38;5;241;43m.\u001b[39;49m\u001b[43mseats\u001b[49m\u001b[38;5;241;43m>\u001b[39;49m\u001b[38;5;241;43m0\u001b[39;49m):\n\u001b[0;32m     13\u001b[0m         \u001b[38;5;28mprint\u001b[39m(\u001b[38;5;124mf\u001b[39m\u001b[38;5;124m\"\u001b[39m\u001b[38;5;124mYour ticket has been booked! Your seats no. is \u001b[39m\u001b[38;5;132;01m{\u001b[39;00m\u001b[38;5;28mself\u001b[39m\u001b[38;5;241m.\u001b[39mseats\u001b[38;5;132;01m}\u001b[39;00m\u001b[38;5;124m\"\u001b[39m)\n\u001b[0;32m     14\u001b[0m         \u001b[38;5;28mself\u001b[39m\u001b[38;5;241m.\u001b[39mseats \u001b[38;5;241m=\u001b[39m \u001b[38;5;28mself\u001b[39m\u001b[38;5;241m.\u001b[39mseats \u001b[38;5;241m-\u001b[39m \u001b[38;5;241m1\u001b[39m\n",
      "\u001b[1;31mTypeError\u001b[0m: '>' not supported between instances of 'str' and 'int'"
     ]
    }
   ],
   "source": [
    "class Train:\n",
    "    def __init__(self,name,fare,seats):\n",
    "        self.name = name\n",
    "        self.fare = fare\n",
    "        self.seats = seats\n",
    "    def getstatus(self):\n",
    "        print(f\"The name of the train is {self.name}\")\n",
    "        print(f\"The seats available in the train are {self.seats}\")\n",
    "    def fareinfo(self):\n",
    "        print(f\"The price of the ticket is Rs-{self.fare}\")\n",
    "    def bookTicket(self):\n",
    "        if(self.seats>0):\n",
    "            print(f\"Your ticket has been booked! Your seats no. is {self.seats}\")\n",
    "            self.seats = self.seats - 1\n",
    "        else:\n",
    "            print(f\"Sorry this train is full! Kindly try in tatkal\")\n",
    "intersity = Train(\"intersity Express\",\"300\",\"50\") \n",
    "intersity.getstatus()\n",
    "intersity.fareinfo()\n",
    "intersity.bookTicket()\n",
    "intersity.getstatus()"
   ]
  },
  {
   "cell_type": "code",
   "execution_count": 2,
   "id": "adf2e8ec",
   "metadata": {},
   "outputs": [
    {
     "name": "stdout",
     "output_type": "stream",
     "text": [
      "100\n"
     ]
    }
   ],
   "source": [
    "class py_solution:\n",
    "    def pow(self, x, n):\n",
    "        \n",
    "        if x==0 or x==1 or n==1:\n",
    "            return x \n",
    "\n",
    "        if x==-1:\n",
    "            if n%2 ==0:\n",
    "                return 1\n",
    "            else:\n",
    "                return -1\n",
    "        if n==0:\n",
    "            return 1\n",
    "        if n<0:\n",
    "            return 1/self.pow(x,-n)\n",
    "        val = self.pow(x,n//2)\n",
    "        if n%2 ==0:\n",
    "            return val*val\n",
    "        return val*val*x\n",
    "\n",
    "print(py_solution().pow(10, 2))\n"
   ]
  },
  {
   "cell_type": "code",
   "execution_count": 3,
   "id": "e0f66719",
   "metadata": {},
   "outputs": [
    {
     "name": "stdout",
     "output_type": "stream",
     "text": [
      "Enter x value :10\n",
      "Enter n value :2\n",
      "pow(x,n) value is : 100\n"
     ]
    }
   ],
   "source": [
    "'''Write a Python class to implement pow(x, n)'''\n",
    "class py_pow:\n",
    "    def powr(self, x, n):\n",
    "        if x==0 or x==1 or n==1:\n",
    "            return x \n",
    "\n",
    "        if x==-1:\n",
    "            if n%2 ==0:\n",
    "                return 1\n",
    "            else:\n",
    "                return -1\n",
    "        if n==0:\n",
    "            return 1\n",
    "        if n<0:\n",
    "            return 1/self.powr(x,-n)\n",
    "        val = self.powr(x,n//2)\n",
    "        if n%2 ==0:\n",
    "            return val*val\n",
    "        return val*val*x\n",
    "\n",
    "x=int(input(\"Enter x value :\"))\n",
    "n=int(input(\"Enter n value :\"))\n",
    "print(\"pow(x,n) value is :\",py_pow().powr(x,n));\n"
   ]
  },
  {
   "cell_type": "code",
   "execution_count": 19,
   "id": "25600f9e",
   "metadata": {},
   "outputs": [
    {
     "data": {
      "text/plain": [
       "''"
      ]
     },
     "execution_count": 19,
     "metadata": {},
     "output_type": "execute_result"
    }
   ],
   "source": [
    "class facebook:\n",
    "    def __init__(self):\n",
    "        \n",
    "        self.name = \"vinay\"\n",
    "        self.age = \"\"\n",
    "        self.phn = \"\"\n",
    "        self.mail = \"\"\n",
    "        self.password = \"\"\n",
    "    def get_name(self):\n",
    "        return f\"the name is {self.name}\"\n",
    "    def get_age(self):\n",
    "        return self.age\n",
    "    def get_phn(self):\n",
    "        return self.phn\n",
    "    def get_email(self):\n",
    "        return self.mail\n",
    "user1 = facebook()\n",
    "user1.get_name()\n",
    "user1.get_age()\n",
    "user1.get_phn()\n",
    "user1.get_email()"
   ]
  },
  {
   "cell_type": "code",
   "execution_count": 20,
   "id": "4d451e5e",
   "metadata": {},
   "outputs": [
    {
     "data": {
      "text/plain": [
       "'vinay'"
      ]
     },
     "execution_count": 20,
     "metadata": {},
     "output_type": "execute_result"
    }
   ],
   "source": [
    "user1.name"
   ]
  },
  {
   "cell_type": "code",
   "execution_count": 12,
   "id": "fa6b58fd",
   "metadata": {},
   "outputs": [
    {
     "name": "stdout",
     "output_type": "stream",
     "text": [
      "The name of the person is Vinay Nath\n",
      "The person mobile number is 22\n",
      "The email is vinaynath2399@gmail.com\n",
      "The age of the person is 9074958825\n"
     ]
    }
   ],
   "source": [
    "class facebook:\n",
    "    def __init__(self,name,age,phn,email):\n",
    "        self.name = name\n",
    "        self.age = age\n",
    "        self.phn = phn\n",
    "        self.email = email\n",
    "    def set_fullname(self):\n",
    "        print(f\"The name of the person is {self.name}\")\n",
    "    def set_mobile(self):\n",
    "        print(f\"The person mobile number is {self.phn}\")\n",
    "    def set_age(self):\n",
    "        print(f\"The age of the person is {self.age}\")\n",
    "    def set_email(self):\n",
    "        print(f\"The email is {self.email}\")\n",
    "xyz = facebook(\"Vinay Nath\",\"9074958825\",\"22\",\"vinaynath2399@gmail.com\")\n",
    "xyz.set_fullname()\n",
    "xyz.set_mobile()\n",
    "xyz.set_email()\n",
    "xyz.set_age()\n"
   ]
  },
  {
   "cell_type": "code",
   "execution_count": 13,
   "id": "721d4400",
   "metadata": {},
   "outputs": [
    {
     "data": {
      "text/plain": [
       "'the age is 22'"
      ]
     },
     "execution_count": 13,
     "metadata": {},
     "output_type": "execute_result"
    }
   ],
   "source": [
    "class company:\n",
    "    def __init__(self,name,age,hobby):\n",
    "        self.name = name\n",
    "        self.age = age\n",
    "        self.hobby = hobby\n",
    "    def get_name(self):\n",
    "        return f\"The name is {self.name}\"\n",
    "    def get_age(self):\n",
    "        return f\"the age is {self.age}\"\n",
    "    def get_hobby(self):\n",
    "        return f\"the hiobby is {self.hobby}\"\n",
    "xyz = company(\"vinay\",\"22\",\"Cricket\")\n",
    "xyz.get_name()\n",
    "xyz.get_age()\n"
   ]
  },
  {
   "cell_type": "code",
   "execution_count": 8,
   "id": "43a54f5f",
   "metadata": {},
   "outputs": [],
   "source": [
    "class company:\n",
    "    def __init__(self,name,age,hobby):\n",
    "        self.name = name\n",
    "        self.age = age\n",
    "        self.hobby = hobby\n",
    "    def get_name(self):\n",
    "        return f\"The name is {self.name}\"\n",
    "    def get_age(self):\n",
    "        return f\"the age is {self.age}\"\n",
    "    def get_hobby(self):\n",
    "        return f\"the hiobby is {self.hobby}\"\n",
    "xyz = company(\"vinay\",\"22\",\"Cricket\")\n"
   ]
  },
  {
   "cell_type": "code",
   "execution_count": 9,
   "id": "a9ec599d",
   "metadata": {},
   "outputs": [
    {
     "data": {
      "text/plain": [
       "'the hiobby is Cricket'"
      ]
     },
     "execution_count": 9,
     "metadata": {},
     "output_type": "execute_result"
    }
   ],
   "source": [
    "\n",
    "xyz.get_hobby()"
   ]
  },
  {
   "cell_type": "code",
   "execution_count": 10,
   "id": "12e69a3a",
   "metadata": {},
   "outputs": [
    {
     "data": {
      "text/plain": [
       "'the age is 22'"
      ]
     },
     "execution_count": 10,
     "metadata": {},
     "output_type": "execute_result"
    }
   ],
   "source": [
    "xyz.get_age()"
   ]
  },
  {
   "cell_type": "code",
   "execution_count": 11,
   "id": "a77ac253",
   "metadata": {},
   "outputs": [
    {
     "data": {
      "text/plain": [
       "'The name is vinay'"
      ]
     },
     "execution_count": 11,
     "metadata": {},
     "output_type": "execute_result"
    }
   ],
   "source": [
    "xyz.get_name()"
   ]
  },
  {
   "cell_type": "code",
   "execution_count": 22,
   "id": "09f039e6",
   "metadata": {},
   "outputs": [
    {
     "name": "stdout",
     "output_type": "stream",
     "text": [
      "Hey I am Head\n",
      "*************\n",
      "I am Animal\n",
      "I am Tom\n",
      "I am wild dog\n"
     ]
    }
   ],
   "source": [
    "class Animal:\n",
    "    def __init__(self):\n",
    "        print(\"I am Animal\")\n",
    "        super().__init__()\n",
    "    def leg(self):\n",
    "        print(\"Its has 4 legs\")\n",
    "        super().__init__()\n",
    "class Dog:\n",
    "    def __init__(self):\n",
    "        print(\"I am wild dog\")\n",
    "        super().__init__()\n",
    "class Tom:\n",
    "    def __init__(self):\n",
    "        print(\"I am Tom\")\n",
    "        super().__init__()\n",
    "class House(Animal,Tom,Dog):\n",
    "    def __init__(self):\n",
    "        print(\"Hey I am Head\")\n",
    "        print(\"*************\")\n",
    "        super().__init__()\n",
    "xyz = House()        "
   ]
  },
  {
   "cell_type": "code",
   "execution_count": null,
   "id": "00faaa0f",
   "metadata": {},
   "outputs": [],
   "source": [
    "https://docs.python.org/3/library/json.html"
   ]
  },
  {
   "cell_type": "code",
   "execution_count": null,
   "id": "ab2c8c53",
   "metadata": {},
   "outputs": [],
   "source": []
  }
 ],
 "metadata": {
  "kernelspec": {
   "display_name": "Python 3 (ipykernel)",
   "language": "python",
   "name": "python3"
  },
  "language_info": {
   "codemirror_mode": {
    "name": "ipython",
    "version": 3
   },
   "file_extension": ".py",
   "mimetype": "text/x-python",
   "name": "python",
   "nbconvert_exporter": "python",
   "pygments_lexer": "ipython3",
   "version": "3.10.3"
  }
 },
 "nbformat": 4,
 "nbformat_minor": 5
}

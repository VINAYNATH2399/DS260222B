{
 "cells": [
  {
   "cell_type": "code",
   "execution_count": 1,
   "id": "3f40c0a9",
   "metadata": {},
   "outputs": [],
   "source": [
    "# Count the number of the upper and lower case letters in a string"
   ]
  },
  {
   "cell_type": "code",
   "execution_count": 3,
   "id": "d61172fc",
   "metadata": {},
   "outputs": [
    {
     "name": "stdout",
     "output_type": "stream",
     "text": [
      "Original String :  The quick Brow Fox\n",
      "No. of Upper case characters :  3\n",
      "No. of Lower case Characters :  12\n"
     ]
    }
   ],
   "source": [
    "def calculate_upper_and_lower_case(str):\n",
    "    count0 = 0\n",
    "    count1 = 0\n",
    "    \n",
    "    for i in str:\n",
    "        if i.isupper():\n",
    "            count0+=1\n",
    "        elif i.islower():\n",
    "            count1+=1\n",
    "        else:\n",
    "            pass\n",
    "\n",
    "    print (\"Original String : \", str)\n",
    "    print (\"No. of Upper case characters : \", count0)\n",
    "    print (\"No. of Lower case Characters : \", count1)\n",
    "str = \"The quick Brow Fox\"\n",
    "calculate_upper_and_lower_case(str)"
   ]
  },
  {
   "cell_type": "code",
   "execution_count": null,
   "id": "85e9c3e3",
   "metadata": {},
   "outputs": [],
   "source": []
  }
 ],
 "metadata": {
  "kernelspec": {
   "display_name": "Python 3.10.8 64-bit",
   "language": "python",
   "name": "python3"
  },
  "language_info": {
   "codemirror_mode": {
    "name": "ipython",
    "version": 3
   },
   "file_extension": ".py",
   "mimetype": "text/x-python",
   "name": "python",
   "nbconvert_exporter": "python",
   "pygments_lexer": "ipython3",
   "version": "3.10.8"
  },
  "vscode": {
   "interpreter": {
    "hash": "2469a70536e4d2335a2ea8907942d0699c37342a371ac185bdb5b0aa6f073890"
   }
  }
 },
 "nbformat": 4,
 "nbformat_minor": 5
}

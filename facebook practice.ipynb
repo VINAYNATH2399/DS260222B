{
 "cells": [
  {
   "cell_type": "code",
   "execution_count": 6,
   "id": "b128a14e",
   "metadata": {},
   "outputs": [
    {
     "data": {
      "text/plain": [
       "'The email is '"
      ]
     },
     "execution_count": 6,
     "metadata": {},
     "output_type": "execute_result"
    }
   ],
   "source": [
    "class facebook:\n",
    "    def __init__(self):\n",
    "        \n",
    "        self.name = \"\"\n",
    "        self.age = \"\"\n",
    "        self.phn = \"\"\n",
    "        self.email = \"\"\n",
    "        self.password = \"\"\n",
    "    def get_name(self):\n",
    "        return f\"THe name is {self.name}\"\n",
    "        \n",
    "    def get_age(self):\n",
    "        \n",
    "        return f\"The age is {self.age}\"\n",
    "    def get_phn(self):\n",
    "        return f\"The number is {self.phn}\"\n",
    "    def get_email(self):\n",
    "        \n",
    "        return f\"The email is {self.email}\"\n",
    "user1 = facebook()\n",
    "user1.get_name()\n",
    "user1.get_age()\n",
    "user1.get_phn()\n",
    "user1.get_email()"
   ]
  },
  {
   "cell_type": "code",
   "execution_count": null,
   "id": "32f1155b",
   "metadata": {},
   "outputs": [],
   "source": []
  }
 ],
 "metadata": {
  "kernelspec": {
   "display_name": "Python 3 (ipykernel)",
   "language": "python",
   "name": "python3"
  },
  "language_info": {
   "codemirror_mode": {
    "name": "ipython",
    "version": 3
   },
   "file_extension": ".py",
   "mimetype": "text/x-python",
   "name": "python",
   "nbconvert_exporter": "python",
   "pygments_lexer": "ipython3",
   "version": "3.10.3"
  }
 },
 "nbformat": 4,
 "nbformat_minor": 5
}

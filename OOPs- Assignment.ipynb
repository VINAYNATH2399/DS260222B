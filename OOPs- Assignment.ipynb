{
 "cells": [
  {
   "cell_type": "code",
   "execution_count": 2,
   "id": "99f4a7a3",
   "metadata": {},
   "outputs": [
    {
     "name": "stdout",
     "output_type": "stream",
     "text": [
      "Enter the value of x: 10\n",
      "Enter the value of n: 2\n",
      "power(x,n)val is:  100\n"
     ]
    }
   ],
   "source": [
    "#Write a Python class to implement pow(x, n)\n",
    "class py_pow:\n",
    "    def pow(self,x,n):\n",
    "        if x==0 or x==1 or n==1:\n",
    "            return x\n",
    "        if x==-1:\n",
    "            if n%2==0:\n",
    "                return 1\n",
    "            else:\n",
    "                return -1\n",
    "        if n==0:\n",
    "            return 1\n",
    "        if n<0:\n",
    "            return 1/self.pow(x,-n)\n",
    "        val=self.pow(x,n//2)\n",
    "        if n%2==0:\n",
    "            return val*val\n",
    "        return val*val*x\n",
    "x = int(input(\"Enter the value of x: \"))\n",
    "n = int(input(\"Enter the value of n: \"))\n",
    "print(\"power(x,n)val is: \",py_pow().pow(x,n))"
   ]
  },
  {
   "cell_type": "code",
   "execution_count": null,
   "id": "a96ad261",
   "metadata": {},
   "outputs": [],
   "source": []
  }
 ],
 "metadata": {
  "kernelspec": {
   "display_name": "Python 3 (ipykernel)",
   "language": "python",
   "name": "python3"
  },
  "language_info": {
   "codemirror_mode": {
    "name": "ipython",
    "version": 3
   },
   "file_extension": ".py",
   "mimetype": "text/x-python",
   "name": "python",
   "nbconvert_exporter": "python",
   "pygments_lexer": "ipython3",
   "version": "3.10.3"
  }
 },
 "nbformat": 4,
 "nbformat_minor": 5
}

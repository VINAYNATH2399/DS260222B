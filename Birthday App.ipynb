{
 "cells": [
  {
   "cell_type": "markdown",
   "id": "f61956a9",
   "metadata": {},
   "source": [
    "# BIRTHDAY REMINDER APP"
   ]
  },
  {
   "cell_type": "code",
   "execution_count": null,
   "id": "1f9a1298",
   "metadata": {},
   "outputs": [
    {
     "name": "stdout",
     "output_type": "stream",
     "text": [
      "____BIRTHDAY APP____\n",
      "Choice any option:\n",
      "1. Show Birthday\n",
      "2. Add to Birthday List\n",
      "3. Exit\n",
      "Enter: 1\n",
      "Nothing to Show\n",
      "____BIRTHDAY APP____\n",
      "Choice any option:\n",
      "1. Show Birthday\n",
      "2. Add to Birthday List\n",
      "3. Exit\n",
      "Enter: 2\n",
      "Enter friend's name= vinay Nath\n",
      "Enter Birthday date= 23 sept\n",
      "Birthday Added\n",
      "____BIRTHDAY APP____\n",
      "Choice any option:\n",
      "1. Show Birthday\n",
      "2. Add to Birthday List\n",
      "3. Exit\n",
      "Enter: 1\n",
      "Enter name to look for Birthday: vinay Nath\n",
      "23 sept\n",
      "____BIRTHDAY APP____\n",
      "Choice any option:\n",
      "1. Show Birthday\n",
      "2. Add to Birthday List\n",
      "3. Exit\n"
     ]
    }
   ],
   "source": [
    "dict = {}\n",
    "while True:\n",
    "    print(\"____BIRTHDAY APP____\")\n",
    "    print(\"Choice any option:\")\n",
    "    print(\"1. Show Birthday\")\n",
    "    print(\"2. Add to Birthday List\")\n",
    "    print(\"3. Exit\")\n",
    "    \n",
    "    choice = int(input(\"Enter: \"))\n",
    "    \n",
    "    if choice ==1:\n",
    "        if len(dict.keys())==0:\n",
    "            print(\"Nothing to Show\")\n",
    "        else:\n",
    "            name = input(\"Enter name to look for Birthday: \")\n",
    "            birthday = dict.get(name,\"No data found\\n\"\n",
    "                               \"Please add Birthday List\")\n",
    "            print(birthday)\n",
    "    elif choice == 2:\n",
    "        name = input(\"Enter friend's name= \")\n",
    "        date = input(\"Enter Birthday date= \")\n",
    "        dict[name] = date\n",
    "        print(\"Birthday Added\")\n",
    "    elif choice == 3:\n",
    "        break\n",
    "    else:\n",
    "        print(\"Enter correct Choice\")\n",
    "print(dict) "
   ]
  },
  {
   "cell_type": "code",
   "execution_count": null,
   "id": "9adb1a11",
   "metadata": {},
   "outputs": [],
   "source": []
  }
 ],
 "metadata": {
  "kernelspec": {
   "display_name": "Python 3 (ipykernel)",
   "language": "python",
   "name": "python3"
  },
  "language_info": {
   "codemirror_mode": {
    "name": "ipython",
    "version": 3
   },
   "file_extension": ".py",
   "mimetype": "text/x-python",
   "name": "python",
   "nbconvert_exporter": "python",
   "pygments_lexer": "ipython3",
   "version": "3.10.3"
  }
 },
 "nbformat": 4,
 "nbformat_minor": 5
}

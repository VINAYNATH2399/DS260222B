{
 "cells": [
  {
   "cell_type": "code",
   "execution_count": 1,
   "id": "abfd244d",
   "metadata": {},
   "outputs": [
    {
     "name": "stdout",
     "output_type": "stream",
     "text": [
      "The name of the train is Intersity Express\n",
      "The fare of the train Rs-90\n",
      "The number of seats available in Intersity Express is 300\n",
      "Your Ticket is Booked!Your seats number is 300\n",
      "The name of the train is Intersity Express\n",
      "The fare of the train Rs-90\n",
      "The number of seats available in Intersity Express is 299\n"
     ]
    }
   ],
   "source": [
    "class Train:\n",
    "    def __init__(self,name,fare,seats):\n",
    "        self.name = name\n",
    "        self.fare = fare\n",
    "        self.seats = seats\n",
    "    def getstatus(self):\n",
    "        print(f\"The name of the train is {self.name}\")\n",
    "        print(f\"The fare of the train Rs-{self.fare}\")\n",
    "    def getseats(self):\n",
    "        print(f\"The number of seats available in {self.name} is {self.seats}\")\n",
    "    def ticketbooking(self):\n",
    "        if(self.seats>0):\n",
    "            print(f\"Your Ticket is Booked!Your seats number is {self.seats}\")\n",
    "            self.seats = self.seats-1\n",
    "        else:\n",
    "             print(\"Sorry this Train is Full try another Train\")     \n",
    "                  \n",
    "intersity = Train(\"Intersity Express\",90,300)\n",
    "intersity.getstatus()\n",
    "intersity.getseats()\n",
    "intersity.ticketbooking()\n",
    "intersity.getstatus()\n",
    "intersity.getseats()"
   ]
  },
  {
   "cell_type": "code",
   "execution_count": null,
   "id": "4cd772cd",
   "metadata": {},
   "outputs": [],
   "source": []
  }
 ],
 "metadata": {
  "kernelspec": {
   "display_name": "Python 3 (ipykernel)",
   "language": "python",
   "name": "python3"
  },
  "language_info": {
   "codemirror_mode": {
    "name": "ipython",
    "version": 3
   },
   "file_extension": ".py",
   "mimetype": "text/x-python",
   "name": "python",
   "nbconvert_exporter": "python",
   "pygments_lexer": "ipython3",
   "version": "3.10.3"
  }
 },
 "nbformat": 4,
 "nbformat_minor": 5
}

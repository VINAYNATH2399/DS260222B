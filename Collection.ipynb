{
 "cells": [
  {
   "cell_type": "code",
   "execution_count": null,
   "id": "04c4a278",
   "metadata": {},
   "outputs": [],
   "source": [
    "Definition:-\n",
    "The collection Module in Python provides different types of containers.\\n\n",
    "A Container is an object that is used to store different objects and \\n\n",
    "provide a way to access the contained objects and iterate over them"
   ]
  },
  {
   "cell_type": "code",
   "execution_count": null,
   "id": "b432a172",
   "metadata": {},
   "outputs": [],
   "source": [
    "There are four collection data types in the Python programming language:\n",
    "\n",
    "List is a collection which is ordered and changeable. Allows duplicate members.\n",
    "Tuple is a collection which is ordered and unchangeable. Allows duplicate members.\n",
    "Set is a collection which is unordered, unchangeable*, and unindexed. No duplicate members.\n",
    "Dictionary is a collection which is ordered** and changeable. No duplicate members."
   ]
  },
  {
   "cell_type": "code",
   "execution_count": null,
   "id": "92df8878",
   "metadata": {},
   "outputs": [],
   "source": [
    "* Deque\n",
    "* Counter\n",
    "* OrderDict\n",
    "* ChainMap"
   ]
  },
  {
   "cell_type": "markdown",
   "id": "794ac870",
   "metadata": {},
   "source": [
    "                                DeQue\n",
    "Deque (Doubly Ended Queue) is the optimized list for quicker append and pop operations from both sides of the container.\n",
    "\n",
    "syntax:- class collections.deque(list)"
   ]
  },
  {
   "cell_type": "code",
   "execution_count": 1,
   "id": "3e0c8fa8",
   "metadata": {},
   "outputs": [],
   "source": [
    "from collections import deque"
   ]
  },
  {
   "cell_type": "code",
   "execution_count": 3,
   "id": "696ded86",
   "metadata": {},
   "outputs": [],
   "source": [
    "import string"
   ]
  },
  {
   "cell_type": "code",
   "execution_count": 4,
   "id": "9244c3e0",
   "metadata": {},
   "outputs": [
    {
     "name": "stdout",
     "output_type": "stream",
     "text": [
      "ABCDEFGHIJKLMNOPQRSTUVWXYZ\n"
     ]
    }
   ],
   "source": [
    "print(string.ascii_uppercase)"
   ]
  },
  {
   "cell_type": "code",
   "execution_count": 5,
   "id": "872d3cce",
   "metadata": {},
   "outputs": [
    {
     "name": "stdout",
     "output_type": "stream",
     "text": [
      "abcdefghijklmnopqrstuvwxyz\n"
     ]
    }
   ],
   "source": [
    "print(string.ascii_lowercase)"
   ]
  },
  {
   "cell_type": "code",
   "execution_count": 8,
   "id": "96abbb8b",
   "metadata": {},
   "outputs": [
    {
     "name": "stdout",
     "output_type": "stream",
     "text": [
      "a b c d e f g h i j k l m n o p q r s t u v w x y z "
     ]
    }
   ],
   "source": [
    "v = string.ascii_lowercase\n",
    "for letter in v:\n",
    "    print(letter,end=\" \")"
   ]
  },
  {
   "cell_type": "code",
   "execution_count": 10,
   "id": "521465d2",
   "metadata": {},
   "outputs": [
    {
     "name": "stdout",
     "output_type": "stream",
     "text": [
      "A B C D E F G H I J K L M N O P Q R S T U V W X Y Z "
     ]
    }
   ],
   "source": [
    "v = string.ascii_uppercase\n",
    "for letter in v:\n",
    "    print(letter,end=\" \")"
   ]
  },
  {
   "cell_type": "code",
   "execution_count": 33,
   "id": "2dcd5fae",
   "metadata": {},
   "outputs": [
    {
     "name": "stdout",
     "output_type": "stream",
     "text": [
      "deque(['a', 'b', 'c', 'd', 'e', 'f', 'g', 'h', 'i', 'j', 'k', 'l', 'm', 'n', 'o', 'p', 'q', 'r', 's', 't', 'u', 'v', 'w', 'x', 'y', 'z'])\n"
     ]
    }
   ],
   "source": [
    "v = deque(string.ascii_lowercase)                  #Deque()\n",
    "print(v)"
   ]
  },
  {
   "cell_type": "code",
   "execution_count": 19,
   "id": "310cac69",
   "metadata": {},
   "outputs": [
    {
     "name": "stdout",
     "output_type": "stream",
     "text": [
      "deque(['A', 'B', 'C', 'D', 'E', 'F', 'G', 'H', 'I', 'J', 'K', 'L', 'M', 'N', 'O', 'P', 'Q', 'R', 'S', 'T', 'U', 'V', 'W', 'X', 'Y', 'Z'])\n"
     ]
    }
   ],
   "source": [
    "v = deque(string.ascii_uppercase)\n",
    "print(v)"
   ]
  },
  {
   "cell_type": "code",
   "execution_count": 20,
   "id": "37aeba83",
   "metadata": {},
   "outputs": [
    {
     "name": "stdout",
     "output_type": "stream",
     "text": [
      "ABCDEFGHIJKLMNOPQRSTUVWXYZ\n"
     ]
    }
   ],
   "source": [
    "import string\n",
    "print(string.ascii_uppercase)"
   ]
  },
  {
   "cell_type": "code",
   "execution_count": 21,
   "id": "ca26f898",
   "metadata": {},
   "outputs": [
    {
     "name": "stdout",
     "output_type": "stream",
     "text": [
      "deque(['A', 'B', 'C', 'D', 'E', 'F', 'G', 'H', 'I', 'J', 'K', 'L', 'M', 'N', 'O', 'P', 'Q', 'R', 'S', 'T', 'U', 'V', 'W', 'X', 'Y', 'Z'])\n"
     ]
    }
   ],
   "source": [
    "v = deque(string.ascii_uppercase)\n",
    "print(v)"
   ]
  },
  {
   "cell_type": "code",
   "execution_count": 22,
   "id": "de21cb5c",
   "metadata": {},
   "outputs": [
    {
     "name": "stdout",
     "output_type": "stream",
     "text": [
      "deque(['A', 'B', 'C', 'D', 'E', 'F', 'G', 'H', 'I', 'J', 'K', 'L', 'M', 'N', 'O', 'P', 'Q', 'R', 'S', 'T', 'U', 'V', 'W', 'X', 'Y', 'Z', 'Vinay'])\n"
     ]
    }
   ],
   "source": [
    "v.append(\"Vinay\")                                      #append()\n",
    "print(v)"
   ]
  },
  {
   "cell_type": "code",
   "execution_count": 23,
   "id": "42f44937",
   "metadata": {},
   "outputs": [
    {
     "name": "stdout",
     "output_type": "stream",
     "text": [
      "deque(['Chintu', 'A', 'B', 'C', 'D', 'E', 'F', 'G', 'H', 'I', 'J', 'K', 'L', 'M', 'N', 'O', 'P', 'Q', 'R', 'S', 'T', 'U', 'V', 'W', 'X', 'Y', 'Z', 'Vinay'])\n"
     ]
    }
   ],
   "source": [
    "v.appendleft(\"Chintu\")\n",
    "print(v)"
   ]
  },
  {
   "cell_type": "code",
   "execution_count": 24,
   "id": "85671aee",
   "metadata": {},
   "outputs": [
    {
     "name": "stdout",
     "output_type": "stream",
     "text": [
      "deque(['Vinay', 'Chintu', 'A', 'B', 'C', 'D', 'E', 'F', 'G', 'H', 'I', 'J', 'K', 'L', 'M', 'N', 'O', 'P', 'Q', 'R', 'S', 'T', 'U', 'V', 'W', 'X', 'Y', 'Z'])\n"
     ]
    }
   ],
   "source": [
    "v.rotate(1)                                            #rotate()\n",
    "print(v)"
   ]
  },
  {
   "cell_type": "code",
   "execution_count": 25,
   "id": "7df0c66e",
   "metadata": {},
   "outputs": [
    {
     "name": "stdout",
     "output_type": "stream",
     "text": [
      "deque(['Chintu', 'A', 'B', 'C', 'D', 'E', 'F', 'G', 'H', 'I', 'J', 'K', 'L', 'M', 'N', 'O', 'P', 'Q', 'R', 'S', 'T', 'U', 'V', 'W', 'X', 'Y', 'Z', 'Vinay'])\n"
     ]
    }
   ],
   "source": [
    "v.rotate(-1)\n",
    "print(v)"
   ]
  },
  {
   "cell_type": "code",
   "execution_count": 26,
   "id": "e9e48ec5",
   "metadata": {},
   "outputs": [
    {
     "name": "stdout",
     "output_type": "stream",
     "text": [
      "deque(['Z', 'Vinay', 'Chintu', 'A', 'B', 'C', 'D', 'E', 'F', 'G', 'H', 'I', 'J', 'K', 'L', 'M', 'N', 'O', 'P', 'Q', 'R', 'S', 'T', 'U', 'V', 'W', 'X', 'Y'])\n"
     ]
    }
   ],
   "source": [
    "v.rotate(2)\n",
    "print(v)"
   ]
  },
  {
   "cell_type": "code",
   "execution_count": 27,
   "id": "01729520",
   "metadata": {},
   "outputs": [
    {
     "name": "stdout",
     "output_type": "stream",
     "text": [
      "deque(['Z', 'Vinay', 'Chintu', 'A', 'B', 'C', 'D', 'E', 'F', 'G', 'H', 'I', 'J', 'K', 'L', 'M', 'N', 'O', 'P', 'Q', 'R', 'S', 'T', 'U', 'V', 'W', 'X'])\n"
     ]
    }
   ],
   "source": [
    "v.pop()                                                      #pop()\n",
    "print(v)"
   ]
  },
  {
   "cell_type": "code",
   "execution_count": 29,
   "id": "34c03749",
   "metadata": {},
   "outputs": [
    {
     "ename": "TypeError",
     "evalue": "deque.pop() takes no arguments (1 given)",
     "output_type": "error",
     "traceback": [
      "\u001b[1;31m---------------------------------------------------------------------------\u001b[0m",
      "\u001b[1;31mTypeError\u001b[0m                                 Traceback (most recent call last)",
      "Input \u001b[1;32mIn [29]\u001b[0m, in \u001b[0;36m<cell line: 1>\u001b[1;34m()\u001b[0m\n\u001b[1;32m----> 1\u001b[0m \u001b[43mv\u001b[49m\u001b[38;5;241;43m.\u001b[39;49m\u001b[43mpop\u001b[49m\u001b[43m(\u001b[49m\u001b[38;5;241;43m2\u001b[39;49m\u001b[43m)\u001b[49m\n\u001b[0;32m      2\u001b[0m \u001b[38;5;28mprint\u001b[39m(v)\n",
      "\u001b[1;31mTypeError\u001b[0m: deque.pop() takes no arguments (1 given)"
     ]
    }
   ],
   "source": [
    "v.pop(2)\n",
    "print(v)"
   ]
  },
  {
   "cell_type": "code",
   "execution_count": 30,
   "id": "a6b326ca",
   "metadata": {},
   "outputs": [
    {
     "name": "stdout",
     "output_type": "stream",
     "text": [
      "deque(['W', 'X', 'Z', 'Vinay', 'Chintu', 'A', 'B', 'C', 'D', 'E', 'F', 'G', 'H', 'I', 'J', 'K', 'L', 'M', 'N', 'O', 'P', 'Q', 'R', 'S', 'T', 'U', 'V'])\n"
     ]
    }
   ],
   "source": [
    "v.rotate(2)\n",
    "print(v)"
   ]
  },
  {
   "cell_type": "code",
   "execution_count": 31,
   "id": "94672648",
   "metadata": {},
   "outputs": [
    {
     "name": "stdout",
     "output_type": "stream",
     "text": [
      "deque(['W', 'X', 'Z', 'Vinay', 'Chintu', 'A', 'B', 'C', 'D', 'E', 'F', 'G', 'H', 'I', 'J', 'K', 'L', 'M', 'N', 'O', 'P', 'Q', 'R', 'S', 'T', 'U'])\n"
     ]
    }
   ],
   "source": [
    "v.pop()\n",
    "print(v)"
   ]
  },
  {
   "cell_type": "code",
   "execution_count": 32,
   "id": "a50bbb33",
   "metadata": {},
   "outputs": [
    {
     "name": "stdout",
     "output_type": "stream",
     "text": [
      "deque(['X', 'Z', 'Vinay', 'Chintu', 'A', 'B', 'C', 'D', 'E', 'F', 'G', 'H', 'I', 'J', 'K', 'L', 'M', 'N', 'O', 'P', 'Q', 'R', 'S', 'T', 'U'])\n"
     ]
    }
   ],
   "source": [
    "v.popleft()\n",
    "print(v)"
   ]
  },
  {
   "cell_type": "code",
   "execution_count": null,
   "id": "e3ba05b0",
   "metadata": {},
   "outputs": [],
   "source": [
    "                                      #Counter\n",
    "Defination:- A counter is a sub-class of the dictionary./n\n",
    "    It is used to keep the count of the elements in an iterable in the form of an unordered dictionary/n\n",
    "    where the key represents the element in the iterable and value represents the count of that element in the iterable.  \n",
    "Suntax:- class collections.Counter([iterable-or-mapping])    "
   ]
  },
  {
   "cell_type": "code",
   "execution_count": 50,
   "id": "0b7dfd9e",
   "metadata": {},
   "outputs": [],
   "source": [
    "from collections import Counter"
   ]
  },
  {
   "cell_type": "code",
   "execution_count": 36,
   "id": "8346de1c",
   "metadata": {},
   "outputs": [
    {
     "name": "stdout",
     "output_type": "stream",
     "text": [
      "Counter({'u': 3, 's': 2, 'p': 1, 'e': 1, 'r': 1, 'f': 1, 'l': 1, 'o': 1})\n"
     ]
    }
   ],
   "source": [
    "print(Counter(\"superfluous\"))"
   ]
  },
  {
   "cell_type": "code",
   "execution_count": 37,
   "id": "5b47ee75",
   "metadata": {},
   "outputs": [
    {
     "name": "stdout",
     "output_type": "stream",
     "text": [
      "Counter({'v': 3, 'i': 2, 'n': 2, 'a': 2, 'y': 1, 'e': 1, 'k': 1, 't': 1, 'h': 1})\n"
     ]
    }
   ],
   "source": [
    "print(Counter(\"vinayviveknath\"))"
   ]
  },
  {
   "cell_type": "code",
   "execution_count": 38,
   "id": "064bb2fa",
   "metadata": {},
   "outputs": [
    {
     "data": {
      "text/plain": [
       "3"
      ]
     },
     "execution_count": 38,
     "metadata": {},
     "output_type": "execute_result"
    }
   ],
   "source": [
    "counter = Counter(\"superfluous\")\n",
    "counter[\"u\"]"
   ]
  },
  {
   "cell_type": "code",
   "execution_count": 39,
   "id": "bd116c25",
   "metadata": {},
   "outputs": [
    {
     "name": "stdout",
     "output_type": "stream",
     "text": [
      "3\n"
     ]
    }
   ],
   "source": [
    "counter = Counter(\"superfluous\")\n",
    "print(counter[\"u\"])"
   ]
  },
  {
   "cell_type": "code",
   "execution_count": 65,
   "id": "e1a80e90",
   "metadata": {},
   "outputs": [
    {
     "name": "stdout",
     "output_type": "stream",
     "text": [
      "1\n"
     ]
    }
   ],
   "source": [
    "counter = Counter(\"superfluous\")\n",
    "print(counter[\"f\"])"
   ]
  },
  {
   "cell_type": "code",
   "execution_count": 67,
   "id": "bb6a4fdd",
   "metadata": {},
   "outputs": [],
   "source": [
    "from collections import Counter"
   ]
  },
  {
   "cell_type": "code",
   "execution_count": 63,
   "id": "56a780ac",
   "metadata": {},
   "outputs": [
    {
     "name": "stdout",
     "output_type": "stream",
     "text": [
      "Counter({'u': 3, 's': 2, 'p': 1, 'e': 1, 'r': 1, 'f': 1, 'l': 1, 'o': 1})\n"
     ]
    }
   ],
   "source": [
    "print(Counter(\"superfluous\"))"
   ]
  },
  {
   "cell_type": "code",
   "execution_count": 71,
   "id": "fe9d7e54",
   "metadata": {},
   "outputs": [
    {
     "name": "stdout",
     "output_type": "stream",
     "text": [
      "['s', 's', 'u', 'u', 'u', 'p', 'e', 'r', 'f', 'l', 'o']\n"
     ]
    }
   ],
   "source": [
    "counter = Counter(\"superfluous\")                                      #elements\n",
    "print(list(counter.elements()))"
   ]
  },
  {
   "cell_type": "code",
   "execution_count": 72,
   "id": "e452f4ec",
   "metadata": {},
   "outputs": [
    {
     "name": "stdout",
     "output_type": "stream",
     "text": [
      "[('u', 3)]\n"
     ]
    }
   ],
   "source": [
    "print(counter.most_common(1))                                           #most_common()"
   ]
  },
  {
   "cell_type": "code",
   "execution_count": 73,
   "id": "832c1e92",
   "metadata": {},
   "outputs": [
    {
     "name": "stdout",
     "output_type": "stream",
     "text": [
      "[('u', 3), ('s', 2)]\n"
     ]
    }
   ],
   "source": [
    "print(counter.most_common(2))"
   ]
  },
  {
   "cell_type": "code",
   "execution_count": 74,
   "id": "2f1d03df",
   "metadata": {},
   "outputs": [
    {
     "name": "stdout",
     "output_type": "stream",
     "text": [
      "[('u', 3), ('s', 2), ('p', 1)]\n"
     ]
    }
   ],
   "source": [
    "print(counter.most_common(3))"
   ]
  },
  {
   "cell_type": "code",
   "execution_count": 75,
   "id": "e24d53e7",
   "metadata": {},
   "outputs": [
    {
     "name": "stdout",
     "output_type": "stream",
     "text": [
      "[('u', 3), ('s', 2), ('p', 1), ('e', 1)]\n"
     ]
    }
   ],
   "source": [
    "print(counter.most_common(4))"
   ]
  },
  {
   "cell_type": "code",
   "execution_count": 76,
   "id": "512f08d0",
   "metadata": {},
   "outputs": [
    {
     "name": "stdout",
     "output_type": "stream",
     "text": [
      "[('u', 3), ('s', 2), ('p', 1), ('e', 1), ('r', 1)]\n"
     ]
    }
   ],
   "source": [
    "print(counter.most_common(5))"
   ]
  },
  {
   "cell_type": "code",
   "execution_count": 77,
   "id": "f8afdea2",
   "metadata": {},
   "outputs": [
    {
     "name": "stdout",
     "output_type": "stream",
     "text": [
      "[('u', 3), ('s', 2), ('p', 1), ('e', 1), ('r', 1), ('f', 1)]\n"
     ]
    }
   ],
   "source": [
    "print(counter.most_common(6))"
   ]
  },
  {
   "cell_type": "code",
   "execution_count": 78,
   "id": "7fad411a",
   "metadata": {},
   "outputs": [
    {
     "name": "stdout",
     "output_type": "stream",
     "text": [
      "[('u', 3), ('s', 2), ('p', 1), ('e', 1), ('r', 1), ('f', 1), ('l', 1)]\n"
     ]
    }
   ],
   "source": [
    "print(counter.most_common(7))"
   ]
  },
  {
   "cell_type": "code",
   "execution_count": 79,
   "id": "7e29cb7f",
   "metadata": {},
   "outputs": [
    {
     "name": "stdout",
     "output_type": "stream",
     "text": [
      "[('u', 3), ('s', 2), ('p', 1), ('e', 1), ('r', 1), ('f', 1), ('l', 1), ('o', 1)]\n"
     ]
    }
   ],
   "source": [
    "print(counter.most_common(8))"
   ]
  },
  {
   "cell_type": "code",
   "execution_count": 80,
   "id": "0c205861",
   "metadata": {},
   "outputs": [
    {
     "name": "stdout",
     "output_type": "stream",
     "text": [
      "[('u', 3), ('s', 2), ('p', 1), ('e', 1), ('r', 1), ('f', 1), ('l', 1), ('o', 1)]\n"
     ]
    }
   ],
   "source": [
    "print(counter.most_common(9))"
   ]
  },
  {
   "cell_type": "code",
   "execution_count": 81,
   "id": "aae4b478",
   "metadata": {},
   "outputs": [
    {
     "name": "stdout",
     "output_type": "stream",
     "text": [
      "[('u', 3), ('s', 2), ('p', 1), ('e', 1), ('r', 1), ('f', 1), ('l', 1), ('o', 1)]\n"
     ]
    }
   ],
   "source": [
    "print(counter.most_common(10))"
   ]
  },
  {
   "cell_type": "code",
   "execution_count": 82,
   "id": "078c0664",
   "metadata": {},
   "outputs": [],
   "source": [
    "from collections import Counter"
   ]
  },
  {
   "cell_type": "code",
   "execution_count": 83,
   "id": "6d9dab14",
   "metadata": {},
   "outputs": [
    {
     "name": "stdout",
     "output_type": "stream",
     "text": [
      "Counter({'u': 3, 's': 2, 'p': 1, 'e': 1, 'r': 1, 'f': 1, 'l': 1, 'o': 1})\n",
      "Counter({'s': 1, 'u': 1, 'p': 1, 'e': 1, 'r': 1})\n",
      "None\n",
      "*********************\n",
      "Counter({'u': 2, 's': 1, 'f': 1, 'l': 1, 'o': 1, 'p': 0, 'e': 0, 'r': 0})\n"
     ]
    }
   ],
   "source": [
    "counter_one = Counter(\"superfluous\")\n",
    "print(counter_one)\n",
    "counter_two = Counter(\"super\")                                                  #substract()\n",
    "print(counter_two)\n",
    "print(counter_one.subtract(counter_two))\n",
    "print(\"*********************\")\n",
    "print(counter_one)"
   ]
  },
  {
   "cell_type": "code",
   "execution_count": null,
   "id": "22050cd3",
   "metadata": {},
   "outputs": [],
   "source": [
    "                                  OrderedDict\n",
    "Defination:- An OrderedDict is also a sub-class of dictionary but unlike dictionary,/n\n",
    "             it remembers the order in which the keys were inserted.     \n",
    "Syntax:- class collections.OrderDict()    "
   ]
  },
  {
   "cell_type": "code",
   "execution_count": 84,
   "id": "590991df",
   "metadata": {},
   "outputs": [
    {
     "name": "stdout",
     "output_type": "stream",
     "text": [
      "{'banana': 3, 'apple': 4, 'pear': 5, 'orange': 7, 'mango': 20}\n"
     ]
    }
   ],
   "source": [
    "d = {'banana':3 , 'apple':4 , 'pear': 5 , 'orange':7 , 'mango': 20}\n",
    "print(d)"
   ]
  },
  {
   "cell_type": "code",
   "execution_count": 90,
   "id": "9255bb24",
   "metadata": {},
   "outputs": [],
   "source": [
    "from collections import OrderedDict"
   ]
  },
  {
   "cell_type": "code",
   "execution_count": 92,
   "id": "711418c4",
   "metadata": {},
   "outputs": [
    {
     "name": "stdout",
     "output_type": "stream",
     "text": [
      "OrderedDict([('apple', 4), ('banana', 3), ('mango', 20), ('orange', 7), ('pear', 5)])\n"
     ]
    }
   ],
   "source": [
    "new_d = OrderedDict(sorted(d.items()))                            #sorted\n",
    "print(new_d)"
   ]
  },
  {
   "cell_type": "code",
   "execution_count": 93,
   "id": "5afa4a59",
   "metadata": {},
   "outputs": [
    {
     "name": "stdout",
     "output_type": "stream",
     "text": [
      "apple OrderedDict([('apple', 4), ('banana', 3), ('mango', 20), ('orange', 7), ('pear', 5)])\n",
      "banana OrderedDict([('apple', 4), ('banana', 3), ('mango', 20), ('orange', 7), ('pear', 5)])\n",
      "mango OrderedDict([('apple', 4), ('banana', 3), ('mango', 20), ('orange', 7), ('pear', 5)])\n",
      "orange OrderedDict([('apple', 4), ('banana', 3), ('mango', 20), ('orange', 7), ('pear', 5)])\n",
      "pear OrderedDict([('apple', 4), ('banana', 3), ('mango', 20), ('orange', 7), ('pear', 5)])\n"
     ]
    }
   ],
   "source": [
    "for key in new_d:\n",
    "    print(key,new_d)"
   ]
  },
  {
   "cell_type": "code",
   "execution_count": 95,
   "id": "2ddbdf01",
   "metadata": {},
   "outputs": [
    {
     "name": "stdout",
     "output_type": "stream",
     "text": [
      "apple 4\n",
      "banana 3\n",
      "mango 20\n",
      "orange 7\n",
      "pear 5\n"
     ]
    }
   ],
   "source": [
    "for key in new_d:\n",
    "    print(key,new_d[key])"
   ]
  },
  {
   "cell_type": "code",
   "execution_count": 96,
   "id": "58326ed3",
   "metadata": {},
   "outputs": [],
   "source": [
    "from collections import OrderedDict"
   ]
  },
  {
   "cell_type": "code",
   "execution_count": 99,
   "id": "4b31ae63",
   "metadata": {},
   "outputs": [
    {
     "name": "stdout",
     "output_type": "stream",
     "text": [
      "{'banana': 3, 'apple': 4, 'pear': 5, 'orange': 7, 'mango': 20}\n",
      "---------------------------------------------------------\n",
      "OrderedDict([('apple', 4), ('banana', 3), ('mango', 20), ('orange', 7), ('pear', 5)])\n",
      "---------------------------------------------------------\n",
      "apple 4\n",
      "banana 3\n",
      "mango 20\n",
      "orange 7\n",
      "pear 5\n"
     ]
    }
   ],
   "source": [
    "d = {'banana':3 , 'apple':4 , 'pear': 5 , 'orange':7 , 'mango': 20}\n",
    "print(d)\n",
    "print(\"---------------------------------------------------------\")\n",
    "new_d = OrderedDict(sorted(d.items()))                                            #sorted\n",
    "print(new_d)\n",
    "print(\"---------------------------------------------------------\")\n",
    "for key in new_d:\n",
    "    print(key,new_d[key])"
   ]
  },
  {
   "cell_type": "code",
   "execution_count": null,
   "id": "61fa824a",
   "metadata": {},
   "outputs": [],
   "source": [
    "                                            ChainMap\n",
    "Definition:- A ChainMap encapsulates many dictionaries into a single unit and returns a list of dictionaries.\n",
    "\n",
    "Syntax: class collections.ChainMap(dict1, dict2)    \n",
    "    "
   ]
  },
  {
   "cell_type": "code",
   "execution_count": 101,
   "id": "cde7b127",
   "metadata": {},
   "outputs": [],
   "source": [
    "from collections import ChainMap"
   ]
  },
  {
   "cell_type": "code",
   "execution_count": 102,
   "id": "2397531e",
   "metadata": {},
   "outputs": [
    {
     "name": "stdout",
     "output_type": "stream",
     "text": [
      "ChainMap({'cover': 100, 'hood_ornament': 150, 'seat_cover': 99}, {'A/C': 1000, 'Turbo': 2500, 'rollbar': 300}, {'hood': 500, 'engine': 5000, 'front_door': 750})\n"
     ]
    }
   ],
   "source": [
    "car_parts = {'hood': 500 , 'engine':5000 ,'front_door':750}\n",
    "car_options = {'A/C':1000 , 'Turbo':2500 ,'rollbar': 300}\n",
    "car_accessories = {'cover': 100 ,\"hood_ornament\":150 , 'seat_cover':99}\n",
    "\n",
    "car_pricing = ChainMap(car_accessories , car_options , car_parts)\n",
    "\n",
    "print(car_pricing)"
   ]
  },
  {
   "cell_type": "code",
   "execution_count": 103,
   "id": "4c41879a",
   "metadata": {},
   "outputs": [
    {
     "name": "stdout",
     "output_type": "stream",
     "text": [
      "5000\n"
     ]
    }
   ],
   "source": [
    "car_parts = {'hood': 500 , 'engine':5000 ,'front_door':750}\n",
    "car_options = {'A/C':1000 , 'Turbo':2500 ,'rollbar': 300}\n",
    "car_accessories = {'cover': 100 ,\"hood_ornament\":150 , 'seat_cover':99}\n",
    "\n",
    "car_pricing = ChainMap(car_accessories , car_options , car_parts)\n",
    "print(car_pricing[\"engine\"])"
   ]
  },
  {
   "cell_type": "code",
   "execution_count": 104,
   "id": "ca393c23",
   "metadata": {},
   "outputs": [
    {
     "name": "stdout",
     "output_type": "stream",
     "text": [
      "hood\n",
      "engine\n",
      "front_door\n",
      "A/C\n",
      "Turbo\n",
      "rollbar\n",
      "cover\n",
      "hood_ornament\n",
      "seat_cover\n"
     ]
    }
   ],
   "source": [
    "for key in car_pricing.keys():\n",
    "    print(key)"
   ]
  },
  {
   "cell_type": "code",
   "execution_count": 105,
   "id": "a20c3487",
   "metadata": {},
   "outputs": [
    {
     "name": "stdout",
     "output_type": "stream",
     "text": [
      "500\n",
      "5000\n",
      "750\n",
      "1000\n",
      "2500\n",
      "300\n",
      "100\n",
      "150\n",
      "99\n"
     ]
    }
   ],
   "source": [
    "for values in car_pricing.values():\n",
    "    print(values)"
   ]
  },
  {
   "cell_type": "code",
   "execution_count": null,
   "id": "0e0fbba3",
   "metadata": {},
   "outputs": [],
   "source": []
  }
 ],
 "metadata": {
  "kernelspec": {
   "display_name": "Python 3 (ipykernel)",
   "language": "python",
   "name": "python3"
  },
  "language_info": {
   "codemirror_mode": {
    "name": "ipython",
    "version": 3
   },
   "file_extension": ".py",
   "mimetype": "text/x-python",
   "name": "python",
   "nbconvert_exporter": "python",
   "pygments_lexer": "ipython3",
   "version": "3.10.3"
  }
 },
 "nbformat": 4,
 "nbformat_minor": 5
}

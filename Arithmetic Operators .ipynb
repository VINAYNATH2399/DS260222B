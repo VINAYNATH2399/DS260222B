{
 "cells": [
  {
   "cell_type": "code",
   "execution_count": 1,
   "id": "6a18d8c3",
   "metadata": {},
   "outputs": [],
   "source": [
    "# Arithmetic Operators"
   ]
  },
  {
   "cell_type": "code",
   "execution_count": 2,
   "id": "c7a87be9",
   "metadata": {},
   "outputs": [
    {
     "name": "stdout",
     "output_type": "stream",
     "text": [
      "Enter the value of a:  10\n",
      "Enter the value of b:  20\n",
      "30\n"
     ]
    }
   ],
   "source": [
    "# Addition --> +\n",
    "a = int(input(\"Enter the value of a:  \"))\n",
    "b = int(input(\"Enter the value of b:  \"))\n",
    "c = a+b\n",
    "print(c)"
   ]
  },
  {
   "cell_type": "code",
   "execution_count": 3,
   "id": "17fe5bac",
   "metadata": {},
   "outputs": [
    {
     "name": "stdout",
     "output_type": "stream",
     "text": [
      "Enter the value of a:  100\n",
      "Enter the value of b:  25\n",
      "75\n"
     ]
    }
   ],
   "source": [
    "# Substraction --> -\n",
    "a = int(input(\"Enter the value of a:  \"))\n",
    "b = int(input(\"Enter the value of b:  \"))\n",
    "d = a - b\n",
    "print(d)"
   ]
  },
  {
   "cell_type": "code",
   "execution_count": 4,
   "id": "acd6f0b9",
   "metadata": {},
   "outputs": [
    {
     "name": "stdout",
     "output_type": "stream",
     "text": [
      "Enter the value of a:  100\n",
      "Enter the value of b:  200\n",
      "20000\n"
     ]
    }
   ],
   "source": [
    "# Multipication --> *\n",
    "a = int(input(\"Enter the value of a:  \"))\n",
    "b = int(input(\"Enter the value of b:  \"))\n",
    "c = a*b\n",
    "print(c)\n"
   ]
  },
  {
   "cell_type": "code",
   "execution_count": 5,
   "id": "a7c1e1b3",
   "metadata": {},
   "outputs": [
    {
     "name": "stdout",
     "output_type": "stream",
     "text": [
      "Enter the value of a:  500\n",
      "Enter the value of b:  30\n",
      "16.666666666666668\n"
     ]
    }
   ],
   "source": [
    "# Division --> /\n",
    "a = int(input(\"Enter the value of a:  \"))\n",
    "b = int(input(\"Enter the value of b:  \"))\n",
    "c = a/b\n",
    "print(c)"
   ]
  },
  {
   "cell_type": "code",
   "execution_count": 7,
   "id": "33d69ec0",
   "metadata": {},
   "outputs": [
    {
     "name": "stdout",
     "output_type": "stream",
     "text": [
      "Enter the value of a:  200\n",
      "Enter the value of b:  36\n",
      "20\n"
     ]
    }
   ],
   "source": [
    "# Module --> %\n",
    "a = int(input(\"Enter the value of a:  \"))\n",
    "b = int(input(\"Enter the value of b:  \"))\n",
    "c = a % b\n",
    "print(c)"
   ]
  },
  {
   "cell_type": "code",
   "execution_count": 8,
   "id": "9c320762",
   "metadata": {},
   "outputs": [
    {
     "name": "stdout",
     "output_type": "stream",
     "text": [
      "Enter the value of a:  500\n",
      "Enter the value of b:  35\n",
      "14\n"
     ]
    }
   ],
   "source": [
    "# Floor Division --> //\n",
    "a = int(input(\"Enter the value of a:  \"))\n",
    "b = int(input(\"Enter the value of b:  \"))\n",
    "c = a//b\n",
    "print(c)"
   ]
  },
  {
   "cell_type": "code",
   "execution_count": 10,
   "id": "a8d92b01",
   "metadata": {},
   "outputs": [
    {
     "name": "stdout",
     "output_type": "stream",
     "text": [
      "Enter the value of a:  5\n",
      "625\n"
     ]
    }
   ],
   "source": [
    "# Exponential Operator --> **\n",
    "a = int(input(\"Enter the value of a:  \"))\n",
    "print(a**4)"
   ]
  },
  {
   "cell_type": "code",
   "execution_count": 12,
   "id": "95129ffe",
   "metadata": {},
   "outputs": [
    {
     "name": "stdout",
     "output_type": "stream",
     "text": [
      "Enter the value of a:  25\n",
      "Enter the value of b:  23\n",
      "Enter the value of c:  14\n",
      "589\n"
     ]
    }
   ],
   "source": [
    "# Bodmas --> +,-,*,/\n",
    "a = int(input(\"Enter the value of a:  \"))\n",
    "b = int(input(\"Enter the value of b:  \"))\n",
    "c = int(input(\"Enter the value of c:  \"))\n",
    "d = a*b+c\n",
    "print(d)\n"
   ]
  },
  {
   "cell_type": "code",
   "execution_count": null,
   "id": "fd43677e",
   "metadata": {},
   "outputs": [],
   "source": []
  }
 ],
 "metadata": {
  "kernelspec": {
   "display_name": "Python 3 (ipykernel)",
   "language": "python",
   "name": "python3"
  },
  "language_info": {
   "codemirror_mode": {
    "name": "ipython",
    "version": 3
   },
   "file_extension": ".py",
   "mimetype": "text/x-python",
   "name": "python",
   "nbconvert_exporter": "python",
   "pygments_lexer": "ipython3",
   "version": "3.9.7"
  }
 },
 "nbformat": 4,
 "nbformat_minor": 5
}

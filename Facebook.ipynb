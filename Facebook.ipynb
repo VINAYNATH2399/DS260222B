{
 "cells": [
  {
   "cell_type": "code",
   "execution_count": 1,
   "id": "9b97689c",
   "metadata": {},
   "outputs": [],
   "source": [
    "#More ways to create a FACEBOOK in python with OOPs Condition"
   ]
  },
  {
   "cell_type": "code",
   "execution_count": 5,
   "id": "585600cd",
   "metadata": {},
   "outputs": [
    {
     "name": "stdout",
     "output_type": "stream",
     "text": [
      "The name of the person is Vinay Nath\n",
      "The age of the person is 22\n",
      "The email is vinaynath2399@gmail.com\n",
      "The person mobile number is 9074958825\n"
     ]
    }
   ],
   "source": [
    "# 1st way\n",
    "class facebook:\n",
    "    def __init__(self,name,age,phn,email):\n",
    "        self.name = name\n",
    "        self.age = age\n",
    "        self.phn = phn\n",
    "        self.email = email\n",
    "    def set_fullname(self):\n",
    "        print(f\"The name of the person is {self.name}\")\n",
    "    def set_mobile(self):\n",
    "        print(f\"The person mobile number is {self.phn}\")\n",
    "    def set_age(self):\n",
    "        print(f\"The age of the person is {self.age}\")\n",
    "    def set_email(self):\n",
    "        print(f\"The email is {self.email}\")\n",
    "xyz = facebook(\"Vinay Nath\",\"22\",\"9074958825\",\"vinaynath2399@gmail.com\")\n",
    "xyz.set_fullname()\n",
    "xyz.set_age()\n",
    "xyz.set_email()\n",
    "xyz.set_mobile()"
   ]
  },
  {
   "cell_type": "code",
   "execution_count": null,
   "id": "56f63b24",
   "metadata": {},
   "outputs": [],
   "source": []
  },
  {
   "cell_type": "code",
   "execution_count": null,
   "id": "9187be03",
   "metadata": {},
   "outputs": [],
   "source": []
  },
  {
   "cell_type": "code",
   "execution_count": null,
   "id": "86eb2125",
   "metadata": {},
   "outputs": [],
   "source": []
  }
 ],
 "metadata": {
  "kernelspec": {
   "display_name": "Python 3 (ipykernel)",
   "language": "python",
   "name": "python3"
  },
  "language_info": {
   "codemirror_mode": {
    "name": "ipython",
    "version": 3
   },
   "file_extension": ".py",
   "mimetype": "text/x-python",
   "name": "python",
   "nbconvert_exporter": "python",
   "pygments_lexer": "ipython3",
   "version": "3.10.3"
  }
 },
 "nbformat": 4,
 "nbformat_minor": 5
}

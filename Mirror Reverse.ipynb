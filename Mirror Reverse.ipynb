{
 "cells": [
  {
   "cell_type": "code",
   "execution_count": 2,
   "id": "e4506979",
   "metadata": {},
   "outputs": [
    {
     "name": "stdout",
     "output_type": "stream",
     "text": [
      "enter the string: Edyoda\n",
      "The original string is : Edyoda\n",
      "The reversed string(using loops) is : adoydE\n"
     ]
    }
   ],
   "source": [
    "def reverse(word):\n",
    " str = \"\"\n",
    " for i in word:\n",
    "    str = i + str\n",
    " return str\n",
    "\n",
    "word=input(\"enter the string: \")\n",
    "\n",
    "print (\"The original string is : \",end=\"\")\n",
    "print (word)\n",
    "\n",
    "print (\"The reversed string(using loops) is : \",end=\"\")\n",
    "print (reverse(word))\n"
   ]
  },
  {
   "cell_type": "code",
   "execution_count": null,
   "id": "31f2f63d",
   "metadata": {},
   "outputs": [],
   "source": []
  }
 ],
 "metadata": {
  "kernelspec": {
   "display_name": "Python 3 (ipykernel)",
   "language": "python",
   "name": "python3"
  },
  "language_info": {
   "codemirror_mode": {
    "name": "ipython",
    "version": 3
   },
   "file_extension": ".py",
   "mimetype": "text/x-python",
   "name": "python",
   "nbconvert_exporter": "python",
   "pygments_lexer": "ipython3",
   "version": "3.9.7"
  }
 },
 "nbformat": 4,
 "nbformat_minor": 5
}

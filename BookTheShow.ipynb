{
 "cells": [
  {
   "cell_type": "code",
   "execution_count": null,
   "id": "32b30488",
   "metadata": {},
   "outputs": [],
   "source": [
    "index:-\n",
    "An index, in your example, refers to a position within an ordered list.\\n\n",
    "Python strings can be thought of as lists of characters;\\n\n",
    "each character is given an index from zero (at the beginning) to the length minus one (at the end)."
   ]
  },
  {
   "cell_type": "code",
   "execution_count": 37,
   "id": "0cfb532f",
   "metadata": {},
   "outputs": [],
   "source": [
    "class BookTheShow:\n",
    "    seats = [[\"E\",\"E\",\"E\",\"E\"],[\"E\",\"E\",\"E\",\"E\"],[\"E\",\"E\",\"E\",\"E\"],[\"E\",\"E\",\"E\",\"E\"]]\n",
    "    user = {}\n",
    "    def __init__(self):\n",
    "        self.name = \"\"\n",
    "        self.phn = \"\"\n",
    "        self.no_of_seat_book = 0\n",
    "        self.booking_list = []\n",
    "    def booking(self):\n",
    "        for i,row in enumerate(BookTheShow.seats):\n",
    "            if \"E\" in row:\n",
    "                self.booking_list.append(f\"{BookTheShow.conv(i)}{row.index('E')}\")\n",
    "                BookTheShow.seats[i][row.index(\"E\")]=\"BS\"\n",
    "                self.no_of_seat_book+=1\n",
    "                return row,BookTheShow.conv(i)\n",
    "        else:\n",
    "            return None\n",
    "    @staticmethod\n",
    "    def conv(num):\n",
    "        d = {i-ord(\"A\"):chr(i) for i in range(ord(\"A\"),ord(\"D\")+1)}\n",
    "        return d[num]\n",
    "    def register(self,name,phn):\n",
    "        self.name = name\n",
    "        self.phn= phn\n",
    "        BookTheShow.user= {name:\"\",phn:\"\"}\n",
    "user1 = BookTheShow()        "
   ]
  },
  {
   "cell_type": "code",
   "execution_count": 7,
   "id": "aacdda68",
   "metadata": {},
   "outputs": [
    {
     "name": "stdout",
     "output_type": "stream",
     "text": [
      "{'name': '', 'phn': '', 'no_of_seat_book': 0, 'booking_list': []}\n"
     ]
    }
   ],
   "source": [
    "print(user1.__dict__)"
   ]
  },
  {
   "cell_type": "code",
   "execution_count": 23,
   "id": "d160a962",
   "metadata": {},
   "outputs": [
    {
     "data": {
      "text/plain": [
       "[['E', 'E', 'E', 'E'],\n",
       " ['E', 'E', 'E', 'E'],\n",
       " ['E', 'E', 'E', 'E'],\n",
       " ['E', 'E', 'E', 'E']]"
      ]
     },
     "execution_count": 23,
     "metadata": {},
     "output_type": "execute_result"
    }
   ],
   "source": [
    "user1.seats"
   ]
  },
  {
   "cell_type": "code",
   "execution_count": 24,
   "id": "3dfd2f8a",
   "metadata": {},
   "outputs": [
    {
     "data": {
      "text/plain": [
       "0"
      ]
     },
     "execution_count": 24,
     "metadata": {},
     "output_type": "execute_result"
    }
   ],
   "source": [
    "user1.no_of_seat_book"
   ]
  },
  {
   "cell_type": "code",
   "execution_count": 17,
   "id": "86745743",
   "metadata": {},
   "outputs": [],
   "source": [
    "user1.register(\"Vinay\",\"99999999999\")"
   ]
  },
  {
   "cell_type": "code",
   "execution_count": 19,
   "id": "068fecc2",
   "metadata": {},
   "outputs": [
    {
     "data": {
      "text/plain": [
       "{'name': 'Vinay',\n",
       " 'phn': '99999999999',\n",
       " 'no_of_seat_book': 0,\n",
       " 'booking_list': []}"
      ]
     },
     "execution_count": 19,
     "metadata": {},
     "output_type": "execute_result"
    }
   ],
   "source": [
    "user1.__dict__"
   ]
  },
  {
   "cell_type": "code",
   "execution_count": 20,
   "id": "dcbe600b",
   "metadata": {},
   "outputs": [
    {
     "data": {
      "text/plain": [
       "0"
      ]
     },
     "execution_count": 20,
     "metadata": {},
     "output_type": "execute_result"
    }
   ],
   "source": [
    "user1.no_of_seat_book"
   ]
  },
  {
   "cell_type": "code",
   "execution_count": 30,
   "id": "b7d6b014",
   "metadata": {},
   "outputs": [
    {
     "data": {
      "text/plain": [
       "(['BS', 'E', 'E', 'E'], 'A')"
      ]
     },
     "execution_count": 30,
     "metadata": {},
     "output_type": "execute_result"
    }
   ],
   "source": [
    "user1.booking()"
   ]
  },
  {
   "cell_type": "code",
   "execution_count": 38,
   "id": "ee8aac37",
   "metadata": {},
   "outputs": [
    {
     "data": {
      "text/plain": [
       "(['BS', 'E', 'E', 'E'], 'A')"
      ]
     },
     "execution_count": 38,
     "metadata": {},
     "output_type": "execute_result"
    }
   ],
   "source": [
    "user1.booking()"
   ]
  },
  {
   "cell_type": "code",
   "execution_count": 39,
   "id": "29951ca8",
   "metadata": {},
   "outputs": [
    {
     "data": {
      "text/plain": [
       "(['BS', 'BS', 'E', 'E'], 'A')"
      ]
     },
     "execution_count": 39,
     "metadata": {},
     "output_type": "execute_result"
    }
   ],
   "source": [
    "user1.booking()"
   ]
  },
  {
   "cell_type": "code",
   "execution_count": 40,
   "id": "79d751eb",
   "metadata": {},
   "outputs": [
    {
     "data": {
      "text/plain": [
       "(['BS', 'BS', 'BS', 'E'], 'A')"
      ]
     },
     "execution_count": 40,
     "metadata": {},
     "output_type": "execute_result"
    }
   ],
   "source": [
    "user1.booking()"
   ]
  },
  {
   "cell_type": "code",
   "execution_count": 41,
   "id": "bd378934",
   "metadata": {},
   "outputs": [
    {
     "data": {
      "text/plain": [
       "(['BS', 'BS', 'BS', 'BS'], 'A')"
      ]
     },
     "execution_count": 41,
     "metadata": {},
     "output_type": "execute_result"
    }
   ],
   "source": [
    "user1.booking()"
   ]
  },
  {
   "cell_type": "code",
   "execution_count": 42,
   "id": "6c156d00",
   "metadata": {},
   "outputs": [
    {
     "data": {
      "text/plain": [
       "(['BS', 'E', 'E', 'E'], 'B')"
      ]
     },
     "execution_count": 42,
     "metadata": {},
     "output_type": "execute_result"
    }
   ],
   "source": [
    "user1.booking()"
   ]
  },
  {
   "cell_type": "code",
   "execution_count": 43,
   "id": "db5149bd",
   "metadata": {},
   "outputs": [
    {
     "data": {
      "text/plain": [
       "[['BS', 'BS', 'BS', 'BS'],\n",
       " ['BS', 'E', 'E', 'E'],\n",
       " ['E', 'E', 'E', 'E'],\n",
       " ['E', 'E', 'E', 'E']]"
      ]
     },
     "execution_count": 43,
     "metadata": {},
     "output_type": "execute_result"
    }
   ],
   "source": [
    "user1.seats"
   ]
  },
  {
   "cell_type": "code",
   "execution_count": null,
   "id": "998f236f",
   "metadata": {},
   "outputs": [],
   "source": []
  }
 ],
 "metadata": {
  "kernelspec": {
   "display_name": "Python 3 (ipykernel)",
   "language": "python",
   "name": "python3"
  },
  "language_info": {
   "codemirror_mode": {
    "name": "ipython",
    "version": 3
   },
   "file_extension": ".py",
   "mimetype": "text/x-python",
   "name": "python",
   "nbconvert_exporter": "python",
   "pygments_lexer": "ipython3",
   "version": "3.10.3"
  }
 },
 "nbformat": 4,
 "nbformat_minor": 5
}

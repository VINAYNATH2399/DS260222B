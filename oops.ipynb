{
 "cells": [
  {
   "cell_type": "code",
   "execution_count": 18,
   "id": "b93bf85e",
   "metadata": {},
   "outputs": [],
   "source": [
    "class car:\n",
    "    def _init_(self):\n",
    "        self.color =\"\"\n",
    "        self.brand =\"\"\n",
    "        self.model =\"\"\n",
    "        self.engine =\"\"\n",
    "ford_obj = car()        "
   ]
  },
  {
   "cell_type": "code",
   "execution_count": 21,
   "id": "376aa884",
   "metadata": {},
   "outputs": [
    {
     "name": "stdout",
     "output_type": "stream",
     "text": [
      "{}\n"
     ]
    }
   ],
   "source": [
    "print(ford_obj.__dict__)"
   ]
  },
  {
   "cell_type": "code",
   "execution_count": 22,
   "id": "f0871b72",
   "metadata": {},
   "outputs": [],
   "source": [
    "ford_obj.color = \"Green\"\n"
   ]
  },
  {
   "cell_type": "code",
   "execution_count": 23,
   "id": "1d41932d",
   "metadata": {},
   "outputs": [
    {
     "name": "stdout",
     "output_type": "stream",
     "text": [
      "{'color': 'Green'}\n"
     ]
    }
   ],
   "source": [
    "print(ford_obj.__dict__)"
   ]
  },
  {
   "cell_type": "code",
   "execution_count": 1,
   "id": "cba3f89a",
   "metadata": {},
   "outputs": [],
   "source": [
    "class Student:\n",
    "    total_marks = 400 \n",
    "    def __init__(self, name, roll, gender):\n",
    "        self.name = name\n",
    "        self.roll = roll\n",
    "        self.gender = gender\n",
    "        self.marks = {\"history\": 0, \"physics\": 0, \"biology\": 0,\"maths\": 0}\n",
    "    \n",
    "    def get_marks(self, history, physics, bio, maths):\n",
    "        self.marks[\"history\"] = history\n",
    "        self.marks[\"physics\"] = physics\n",
    "        self.marks[\"biology\"] = bio\n",
    "        self.marks[\"maths\"] = maths\n",
    "        self.percentage = Student.cal_percentage(history, physics, bio, maths, Student.total_marks)\n",
    "    \n",
    "    @staticmethod\n",
    "    def cal_percentage(hist, phy, bio, maths, totalmarks):\n",
    "        return (sum([hist,phy,bio,maths])/totalmarks)*100"
   ]
  },
  {
   "cell_type": "code",
   "execution_count": 2,
   "id": "21357193",
   "metadata": {},
   "outputs": [],
   "source": [
    "class Complex:\n",
    "    def __init__(self, real, compl):\n",
    "        self.real = real\n",
    "        self.compl = compl\n",
    "    \n",
    "    def __add__(self, other):\n",
    "        return str(self.real+other.real) + \"+ i\" + str(self.compl + other.compl)\n",
    "    \n",
    "    def __sub__(self, other):\n",
    "        return str(self.real-other.real) + \"- i\" + str(self.compl-other.compl)"
   ]
  },
  {
   "cell_type": "code",
   "execution_count": 1,
   "id": "67d969ba",
   "metadata": {},
   "outputs": [
    {
     "ename": "SyntaxError",
     "evalue": "invalid syntax (3986049392.py, line 1)",
     "output_type": "error",
     "traceback": [
      "\u001b[1;36m  Input \u001b[1;32mIn [1]\u001b[1;36m\u001b[0m\n\u001b[1;33m    https://www.programiz.com/python-programming/operator-overloading\u001b[0m\n\u001b[1;37m          ^\u001b[0m\n\u001b[1;31mSyntaxError\u001b[0m\u001b[1;31m:\u001b[0m invalid syntax\n"
     ]
    }
   ],
   "source": [
    "https://www.programiz.com/python-programming/operator-overloading"
   ]
  },
  {
   "cell_type": "code",
   "execution_count": 5,
   "id": "9a6a621f",
   "metadata": {},
   "outputs": [
    {
     "name": "stdout",
     "output_type": "stream",
     "text": [
      "chintu\n",
      "chintu\n"
     ]
    }
   ],
   "source": [
    "class sample:\n",
    "    a = \"Vinay\"\n",
    "obj = sample()    \n",
    "obj.a = \"chintu\"\n",
    "#sample.a = \"chintu\"\n",
    "print(obj.a)\n",
    "print(sample.a)"
   ]
  },
  {
   "cell_type": "code",
   "execution_count": 43,
   "id": "fcec1384",
   "metadata": {},
   "outputs": [
    {
     "name": "stdout",
     "output_type": "stream",
     "text": [
      "Hey I am an Animal\n",
      "Hey I am a Dog\n",
      "I am a tommy\n"
     ]
    }
   ],
   "source": [
    "#Multiple Level Heritance\n",
    "class animal:\n",
    "    def __init__(self):\n",
    "        print(\"Hey I am an Animal\")\n",
    "    def does_with_legs(self):\n",
    "        print(\"It walks\")\n",
    "class dog(animal):\n",
    "    def __init__(self):\n",
    "        super().__init__()\n",
    "        print(\"Hey I am a Dog\")\n",
    "class cat(dog):\n",
    "    def __init__(self):\n",
    "        super().__init__()\n",
    "        print(\"I am a tommy\")\n",
    "tom = cat()"
   ]
  },
  {
   "cell_type": "code",
   "execution_count": 28,
   "id": "27e1f211",
   "metadata": {},
   "outputs": [],
   "source": [
    "class c2dvec:\n",
    "    def __init__(self,i,j): \n",
    "        self.icap = i\n",
    "        self.jcap = j\n",
    "    def __str__(self):\n",
    "        return f\"{self.icap}i + {self.jcap}j\"\n",
    "class c3dvec(c2dvec):\n",
    "    def __init__(self,i,j,k):\n",
    "        super().__init__(i,j)\n",
    "        self.kcap = k\n",
    "    def __str__(self):\n",
    "        return f\"{self.icap}i + {self.jcap}j + {self.kcap}k\"\n",
    "v2d = c2dvec(1,3)\n",
    "v3d = c3dvec(1,3,4)"
   ]
  },
  {
   "cell_type": "code",
   "execution_count": 29,
   "id": "6d73bf4f",
   "metadata": {},
   "outputs": [
    {
     "name": "stdout",
     "output_type": "stream",
     "text": [
      "1i + 3j\n"
     ]
    }
   ],
   "source": [
    "print(v2d)"
   ]
  },
  {
   "cell_type": "code",
   "execution_count": 27,
   "id": "4b3e6adf",
   "metadata": {},
   "outputs": [
    {
     "name": "stdout",
     "output_type": "stream",
     "text": [
      "1i + 3j + 4k\n"
     ]
    }
   ],
   "source": [
    "print(v3d)"
   ]
  },
  {
   "cell_type": "code",
   "execution_count": 48,
   "id": "92d63ee5",
   "metadata": {},
   "outputs": [
    {
     "name": "stdout",
     "output_type": "stream",
     "text": [
      "I am P2\n",
      "I am P3\n",
      "I am P1\n",
      "Hey I am a child\n"
     ]
    }
   ],
   "source": [
    "# Multiple Heritance\n",
    "class P1:\n",
    "    def __init__(self):\n",
    "        super().__init__()\n",
    "        print(\"I am P1\")\n",
    "        \n",
    "class P2:\n",
    "    def __init__(self):\n",
    "        super().__init__()\n",
    "        print(\"I am P2\")\n",
    "        \n",
    "class P3:\n",
    "    def __init__(self):\n",
    "        super().__init__()\n",
    "        print(\"I am P3\")\n",
    "        \n",
    "class child(P1,P3,P2):\n",
    "    def __init__(self):\n",
    "        super().__init__()\n",
    "        print(\"Hey I am a child\")\n",
    "        \n",
    "x1 = child()        "
   ]
  },
  {
   "cell_type": "code",
   "execution_count": 13,
   "id": "77875b38",
   "metadata": {},
   "outputs": [
    {
     "name": "stdout",
     "output_type": "stream",
     "text": [
      "I am child\n",
      "I am B\n",
      "I am P1\n",
      "I am C\n",
      "I am P2\n",
      "I am A\n"
     ]
    }
   ],
   "source": [
    "# Hybrid Inheritence\n",
    "class A:\n",
    "    def __init__(self):\n",
    "        \n",
    "        print(\"I am A\")\n",
    "        super().__init__()\n",
    "class P1(A):\n",
    "    def __init__(self):\n",
    "        \n",
    "        print(\"I am P1\")\n",
    "        super().__init__()\n",
    "class P2(A):\n",
    "    def __init__(self):\n",
    "       \n",
    "        print(\"I am P2\")\n",
    "        super().__init__()\n",
    "class B(P1):\n",
    "    def __init__(self):\n",
    "       \n",
    "        print(\"I am B\")\n",
    "        super().__init__()\n",
    "class C(P2):\n",
    "    def __init__(self):\n",
    "        \n",
    "        print(\"I am C\")\n",
    "        super().__init__()\n",
    "class child(B,C):\n",
    "    def __init__(self):\n",
    "        print(\"I am child\")\n",
    "        super().__init__()\n",
    "X1 = child()"
   ]
  },
  {
   "cell_type": "code",
   "execution_count": 15,
   "id": "1183a546",
   "metadata": {},
   "outputs": [
    {
     "name": "stdout",
     "output_type": "stream",
     "text": [
      "I am Family\n",
      "I am Dadaji\n",
      "I am FAther\n",
      "I am Mother\n"
     ]
    }
   ],
   "source": [
    "class GrandParent:\n",
    "    def __init__(self):\n",
    "        print(\"I am Dadaji\")\n",
    "        super().__init__()\n",
    "class Father:\n",
    "    def __init__(self):\n",
    "        print(\"I am FAther\")\n",
    "        super().__init__()\n",
    "class Mother:\n",
    "    def __init__(self):\n",
    "        print(\"I am Mother\")\n",
    "        super().__init__()\n",
    "class Family(GrandParent,Father,Mother):\n",
    "    def __init__(self):\n",
    "        print(\"I am Family\")\n",
    "        super().__init__()\n",
    "x1 = Family()      "
   ]
  },
  {
   "cell_type": "code",
   "execution_count": 19,
   "id": "76c5b08e",
   "metadata": {},
   "outputs": [],
   "source": [
    "class A:\n",
    "    def __init__(self,a,b):\n",
    "        self.a = a\n",
    "        self.b = b\n",
    "    def equal(self,a,b):\n",
    "        return self.a + self.b\n",
    "    @staticmethod\n",
    "    def add(self,a,b):\n",
    "        return a + self.b\n",
    "x = A(2,5)    "
   ]
  },
  {
   "cell_type": "code",
   "execution_count": 25,
   "id": "5a2a71c8",
   "metadata": {},
   "outputs": [
    {
     "name": "stdout",
     "output_type": "stream",
     "text": [
      "<class '__main__.A'>\n"
     ]
    }
   ],
   "source": []
  },
  {
   "cell_type": "code",
   "execution_count": null,
   "id": "4cb1edae",
   "metadata": {},
   "outputs": [],
   "source": [
    "class pow:\n",
    "    def power(self,x,n):\n",
    "        if x==0 or x==1 or n==1:\n",
    "            return x\n",
    "        if x==-1:\n",
    "            if n%2==0:\n",
    "                return 1\n",
    "            else:\n",
    "                return -1\n",
    "        if n==0:\n",
    "            return 1\n",
    "        if n<0:\n",
    "            return 1/self.power(x,-n)\n",
    "        val=self.power(x,n//2)\n",
    "        if n%2==0:\n",
    "            return val*val\n",
    "        return val*val*x\n",
    "x = int(input(\"Enter the value of x: \"))\n",
    "n = int(input(\"Enter the value of n: \"))\n",
    "print(\"power(x,n)val is: \",pow().power(x,n))"
   ]
  },
  {
   "cell_type": "code",
   "execution_count": 4,
   "id": "c35e66f5",
   "metadata": {},
   "outputs": [
    {
     "name": "stdout",
     "output_type": "stream",
     "text": [
      "Help on class pow in module __main__:\n",
      "\n",
      "class pow(builtins.object)\n",
      " |  Methods defined here:\n",
      " |  \n",
      " |  power(self, x, n)\n",
      " |  \n",
      " |  ----------------------------------------------------------------------\n",
      " |  Data descriptors defined here:\n",
      " |  \n",
      " |  __dict__\n",
      " |      dictionary for instance variables (if defined)\n",
      " |  \n",
      " |  __weakref__\n",
      " |      list of weak references to the object (if defined)\n",
      "\n"
     ]
    }
   ],
   "source": [
    "help(pow)"
   ]
  },
  {
   "cell_type": "code",
   "execution_count": 1,
   "id": "eaa1b54d",
   "metadata": {},
   "outputs": [],
   "source": [
    "a = 3\n",
    "assert a ==3"
   ]
  },
  {
   "cell_type": "code",
   "execution_count": 2,
   "id": "e967ac55",
   "metadata": {},
   "outputs": [
    {
     "ename": "AssertionError",
     "evalue": "",
     "output_type": "error",
     "traceback": [
      "\u001b[1;31m---------------------------------------------------------------------------\u001b[0m",
      "\u001b[1;31mAssertionError\u001b[0m                            Traceback (most recent call last)",
      "Input \u001b[1;32mIn [2]\u001b[0m, in \u001b[0;36m<cell line: 1>\u001b[1;34m()\u001b[0m\n\u001b[1;32m----> 1\u001b[0m \u001b[38;5;28;01massert\u001b[39;00m a \u001b[38;5;241m==\u001b[39m\u001b[38;5;241m4\u001b[39m\n",
      "\u001b[1;31mAssertionError\u001b[0m: "
     ]
    }
   ],
   "source": [
    "assert a ==4"
   ]
  },
  {
   "cell_type": "code",
   "execution_count": 5,
   "id": "f6f22f49",
   "metadata": {},
   "outputs": [
    {
     "ename": "AssertionError",
     "evalue": "",
     "output_type": "error",
     "traceback": [
      "\u001b[1;31m---------------------------------------------------------------------------\u001b[0m",
      "\u001b[1;31mAssertionError\u001b[0m                            Traceback (most recent call last)",
      "Input \u001b[1;32mIn [5]\u001b[0m, in \u001b[0;36m<cell line: 1>\u001b[1;34m()\u001b[0m\n\u001b[1;32m----> 1\u001b[0m \u001b[38;5;28;01massert\u001b[39;00m  \u001b[38;5;124m\"\u001b[39m\u001b[38;5;124mg\u001b[39m\u001b[38;5;124m\"\u001b[39m \u001b[38;5;129;01min\u001b[39;00m \u001b[38;5;124m\"\u001b[39m\u001b[38;5;124mviany\u001b[39m\u001b[38;5;124m\"\u001b[39m\n",
      "\u001b[1;31mAssertionError\u001b[0m: "
     ]
    }
   ],
   "source": [
    "assert  \"g\" in \"viany\""
   ]
  },
  {
   "cell_type": "code",
   "execution_count": 17,
   "id": "6cbd87c2",
   "metadata": {},
   "outputs": [],
   "source": [
    "def funct1(num):\n",
    "    if num%2==0:\n",
    "        return \"even\"\n",
    "    else:\n",
    "        return \"odd\"\n",
    "\n",
    "assert funct1(8)==\"even\""
   ]
  },
  {
   "cell_type": "code",
   "execution_count": 12,
   "id": "7a2088cd",
   "metadata": {},
   "outputs": [],
   "source": []
  },
  {
   "cell_type": "code",
   "execution_count": null,
   "id": "78076211",
   "metadata": {},
   "outputs": [],
   "source": []
  }
 ],
 "metadata": {
  "kernelspec": {
   "display_name": "Python 3 (ipykernel)",
   "language": "python",
   "name": "python3"
  },
  "language_info": {
   "codemirror_mode": {
    "name": "ipython",
    "version": 3
   },
   "file_extension": ".py",
   "mimetype": "text/x-python",
   "name": "python",
   "nbconvert_exporter": "python",
   "pygments_lexer": "ipython3",
   "version": "3.10.3"
  }
 },
 "nbformat": 4,
 "nbformat_minor": 5
}

{
 "cells": [
  {
   "cell_type": "code",
   "execution_count": 1,
   "id": "7a6fa04a",
   "metadata": {},
   "outputs": [
    {
     "name": "stdout",
     "output_type": "stream",
     "text": [
      "Requirement already satisfied: termcolor in c:\\users\\user\\appdata\\local\\programs\\python\\python310\\lib\\site-packages (1.1.0)\n",
      "Note: you may need to restart the kernel to use updated packages.\n"
     ]
    }
   ],
   "source": [
    "pip install termcolor"
   ]
  },
  {
   "cell_type": "code",
   "execution_count": 4,
   "id": "3e1e023b",
   "metadata": {},
   "outputs": [
    {
     "name": "stdout",
     "output_type": "stream",
     "text": [
      "Help on function colored in module termcolor:\n",
      "\n",
      "colored(text, color=None, on_color=None, attrs=None)\n",
      "    Colorize text.\n",
      "    \n",
      "    Available text colors:\n",
      "        red, green, yellow, blue, magenta, cyan, white.\n",
      "    \n",
      "    Available text highlights:\n",
      "        on_red, on_green, on_yellow, on_blue, on_magenta, on_cyan, on_white.\n",
      "    \n",
      "    Available attributes:\n",
      "        bold, dark, underline, blink, reverse, concealed.\n",
      "    \n",
      "    Example:\n",
      "        colored('Hello, World!', 'red', 'on_grey', ['blue', 'blink'])\n",
      "        colored('Hello, World!', 'green')\n",
      "\n"
     ]
    }
   ],
   "source": [
    "help(colored)"
   ]
  },
  {
   "cell_type": "code",
   "execution_count": 2,
   "id": "5c3d512e",
   "metadata": {},
   "outputs": [
    {
     "name": "stdout",
     "output_type": "stream",
     "text": [
      "\u001b[5m\u001b[7m\u001b[31mHello, World!\u001b[0m\n"
     ]
    }
   ],
   "source": [
    "from termcolor import colored\n",
    "  \n",
    "text = colored('Hello, World!', 'red', attrs=['reverse', 'blink'])\n",
    "print(text)"
   ]
  },
  {
   "cell_type": "code",
   "execution_count": 3,
   "id": "5cddc7b1",
   "metadata": {},
   "outputs": [
    {
     "name": "stdout",
     "output_type": "stream",
     "text": [
      "\u001b[32mCOVID ALERT\u001b[0m\n",
      "\u001b[31mVINAY NATH\u001b[0m\n",
      "\u001b[34mWE ARE SAVE\u001b[0m\n",
      "\u001b[33mHEY I AM SINGLE\u001b[0m\n",
      "\u001b[36mTIPS & TRICKS\u001b[0m\n",
      "\u001b[37mCOVID ALERT\u001b[0m\n",
      "\u001b[35mVINAY NATH\u001b[0m\n"
     ]
    }
   ],
   "source": [
    "from termcolor import colored\n",
    "print(colored(\"COVID ALERT\",\"green\"))\n",
    "print(colored(\"VINAY NATH\",\"red\"))\n",
    "print(colored(\"WE ARE SAVE\",\"blue\"))\n",
    "print(colored(\"HEY I AM SINGLE\",\"yellow\"))\n",
    "print(colored(\"TIPS & TRICKS\",\"cyan\"))\n",
    "print(colored(\"COVID ALERT\",\"white\"))\n",
    "print(colored(\"VINAY NATH\",\"magenta\"))"
   ]
  },
  {
   "cell_type": "code",
   "execution_count": 13,
   "id": "43b13bb9",
   "metadata": {},
   "outputs": [
    {
     "name": "stdout",
     "output_type": "stream",
     "text": [
      "\u001b[1m\u001b[7m\u001b[31m@_python.py_\u001b[0m\n"
     ]
    }
   ],
   "source": [
    "import sys\n",
    "from termcolor import colored, cprint\n",
    "text = colored(\"@_python.py_\",\"red\",attrs=[\"reverse\",\"bold\"])\n",
    "print(text)"
   ]
  },
  {
   "cell_type": "code",
   "execution_count": 9,
   "id": "66362428",
   "metadata": {},
   "outputs": [
    {
     "name": "stdout",
     "output_type": "stream",
     "text": [
      "\u001b[34mFollow,Like and Share\u001b[0m\n"
     ]
    }
   ],
   "source": [
    "from termcolor import colored, cprint\n",
    "cprint(\"Follow,Like and Share\",\"blue\")"
   ]
  },
  {
   "cell_type": "code",
   "execution_count": 10,
   "id": "09ebbaae",
   "metadata": {},
   "outputs": [
    {
     "name": "stdout",
     "output_type": "stream",
     "text": [
      "\u001b[46m\u001b[31mhello, Python Universe!\u001b[0m\n"
     ]
    }
   ],
   "source": [
    "from termcolor import colored, cprint\n",
    "print_red_on_cyan = lambda x: cprint(x,\"red\",\"on_cyan\")\n",
    "print_red_on_cyan(\"hello, Python Universe!\")\n"
   ]
  },
  {
   "cell_type": "code",
   "execution_count": 11,
   "id": "36663865",
   "metadata": {},
   "outputs": [
    {
     "name": "stdout",
     "output_type": "stream",
     "text": [
      "\u001b[35m0\u001b[0m \u001b[35m1\u001b[0m \u001b[35m2\u001b[0m \u001b[35m3\u001b[0m \u001b[35m4\u001b[0m \u001b[35m5\u001b[0m \u001b[35m6\u001b[0m \u001b[35m7\u001b[0m \u001b[35m8\u001b[0m \u001b[35m9\u001b[0m "
     ]
    }
   ],
   "source": [
    "from termcolor import colored, cprint\n",
    "for i in range(10):\n",
    "    cprint(i,\"magenta\",end=\" \")"
   ]
  },
  {
   "cell_type": "code",
   "execution_count": 12,
   "id": "37b6dd85",
   "metadata": {},
   "outputs": [
    {
     "name": "stderr",
     "output_type": "stream",
     "text": [
      "\u001b[1m\u001b[31mAttention!\u001b[0m\n"
     ]
    }
   ],
   "source": [
    "from termcolor import colored, cprint\n",
    "cprint(\"Attention!\", \"red\",attrs=[\"bold\"], file=sys.stderr)   "
   ]
  },
  {
   "cell_type": "code",
   "execution_count": null,
   "id": "c6177bd9",
   "metadata": {},
   "outputs": [],
   "source": []
  }
 ],
 "metadata": {
  "kernelspec": {
   "display_name": "Python 3 (ipykernel)",
   "language": "python",
   "name": "python3"
  },
  "language_info": {
   "codemirror_mode": {
    "name": "ipython",
    "version": 3
   },
   "file_extension": ".py",
   "mimetype": "text/x-python",
   "name": "python",
   "nbconvert_exporter": "python",
   "pygments_lexer": "ipython3",
   "version": "3.10.3"
  }
 },
 "nbformat": 4,
 "nbformat_minor": 5
}

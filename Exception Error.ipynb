{
 "cells": [
  {
   "cell_type": "code",
   "execution_count": null,
   "id": "a12818a7",
   "metadata": {},
   "outputs": [],
   "source": [
    "'''DEFINITION:-\n",
    "An exception is an event, which occurs during the execution of a program, that disrupts the normal flow of the program's instructions.\n",
    "When an error occurs within a method, the method creates an object and hands it off to the runtime system.'''"
   ]
  },
  {
   "cell_type": "code",
   "execution_count": 4,
   "id": "107b7557",
   "metadata": {},
   "outputs": [
    {
     "ename": "IndentationError",
     "evalue": "unexpected indent (2895899717.py, line 3)",
     "output_type": "error",
     "traceback": [
      "\u001b[1;36m  Input \u001b[1;32mIn [4]\u001b[1;36m\u001b[0m\n\u001b[1;33m    print(i)\u001b[0m\n\u001b[1;37m    ^\u001b[0m\n\u001b[1;31mIndentationError\u001b[0m\u001b[1;31m:\u001b[0m unexpected indent\n"
     ]
    }
   ],
   "source": [
    "#1 IndentationError\n",
    "for i in range(10):\n",
    "    print(i)\n",
    "     print(i)"
   ]
  },
  {
   "cell_type": "code",
   "execution_count": 7,
   "id": "416e22a6",
   "metadata": {},
   "outputs": [
    {
     "name": "stdout",
     "output_type": "stream",
     "text": [
      "0\n"
     ]
    },
    {
     "ename": "ZeroDivisionError",
     "evalue": "integer division or modulo by zero",
     "output_type": "error",
     "traceback": [
      "\u001b[1;31m---------------------------------------------------------------------------\u001b[0m",
      "\u001b[1;31mZeroDivisionError\u001b[0m                         Traceback (most recent call last)",
      "Input \u001b[1;32mIn [7]\u001b[0m, in \u001b[0;36m<cell line: 2>\u001b[1;34m()\u001b[0m\n\u001b[0;32m      1\u001b[0m x \u001b[38;5;241m=\u001b[39m \u001b[38;5;28mint\u001b[39m(\u001b[38;5;28minput\u001b[39m())\n\u001b[1;32m----> 2\u001b[0m d \u001b[38;5;241m=\u001b[39m \u001b[38;5;241;43m1234\u001b[39;49m\u001b[38;5;241;43m/\u001b[39;49m\u001b[38;5;241;43m/\u001b[39;49m\u001b[43mx\u001b[49m\n",
      "\u001b[1;31mZeroDivisionError\u001b[0m: integer division or modulo by zero"
     ]
    }
   ],
   "source": [
    "#2 ZeroDivisionError\n",
    "x = int(input())\n",
    "d = 1234//x\n"
   ]
  },
  {
   "cell_type": "code",
   "execution_count": 9,
   "id": "4532be01",
   "metadata": {},
   "outputs": [
    {
     "name": "stdout",
     "output_type": "stream",
     "text": [
      "Enter the index value5\n"
     ]
    },
    {
     "ename": "IndexError",
     "evalue": "list index out of range",
     "output_type": "error",
     "traceback": [
      "\u001b[1;31m---------------------------------------------------------------------------\u001b[0m",
      "\u001b[1;31mIndexError\u001b[0m                                Traceback (most recent call last)",
      "Input \u001b[1;32mIn [9]\u001b[0m, in \u001b[0;36m<cell line: 2>\u001b[1;34m()\u001b[0m\n\u001b[0;32m      1\u001b[0m l \u001b[38;5;241m=\u001b[39m [\u001b[38;5;241m1\u001b[39m,\u001b[38;5;241m2\u001b[39m,\u001b[38;5;241m3\u001b[39m]\n\u001b[1;32m----> 2\u001b[0m \u001b[43ml\u001b[49m\u001b[43m[\u001b[49m\u001b[38;5;28;43mint\u001b[39;49m\u001b[43m(\u001b[49m\u001b[38;5;28;43minput\u001b[39;49m\u001b[43m(\u001b[49m\u001b[38;5;124;43m\"\u001b[39;49m\u001b[38;5;124;43mEnter the index value\u001b[39;49m\u001b[38;5;124;43m\"\u001b[39;49m\u001b[43m)\u001b[49m\u001b[43m)\u001b[49m\u001b[43m]\u001b[49m\n",
      "\u001b[1;31mIndexError\u001b[0m: list index out of range"
     ]
    }
   ],
   "source": [
    "#3 IndexError\n",
    "l = [1,2,3]\n",
    "l[int(input(\"Enter the index value\"))]"
   ]
  },
  {
   "cell_type": "code",
   "execution_count": 10,
   "id": "e506e514",
   "metadata": {},
   "outputs": [
    {
     "name": "stdout",
     "output_type": "stream",
     "text": [
      "0\n",
      "Hey you have divided it by zero\n",
      "Hey I am still working\n"
     ]
    }
   ],
   "source": [
    "#4 HumanError\n",
    "try:\n",
    "    x = int(input())\n",
    "    d = 1234//x\n",
    "    print(\"It will not run\")\n",
    "except:\n",
    "    print(\"Hey you have divided it by zero\")\n",
    "print(\"Hey I am still working\")"
   ]
  },
  {
   "cell_type": "code",
   "execution_count": 11,
   "id": "6d8225fe",
   "metadata": {},
   "outputs": [
    {
     "name": "stdout",
     "output_type": "stream",
     "text": [
      "2\n",
      "It will not run\n",
      "Hey I am still working\n"
     ]
    }
   ],
   "source": [
    "try:\n",
    "    x = int(input())\n",
    "    d = 1234//x\n",
    "    print(\"It will not run\")\n",
    "except:\n",
    "    print(\"Hey you have divided it by zero\")\n",
    "print(\"Hey I am still working\")"
   ]
  },
  {
   "cell_type": "code",
   "execution_count": 13,
   "id": "2f54c5ca",
   "metadata": {},
   "outputs": [
    {
     "name": "stdout",
     "output_type": "stream",
     "text": [
      "Enter the index in integer2\n",
      "litchi\n",
      "Hey your code ran sucessfully\n"
     ]
    }
   ],
   "source": [
    "try:\n",
    "    list_of_fruits = [\"mango\",\"apple\",\"litchi\",\"guava\"]\n",
    "    print(list_of_fruits[int(input(\"Enter the index in integer\"))])\n",
    "except IndexError:\n",
    "    print(\"Hey you are printed the index out of range\")\n",
    "else:\n",
    "    print(\"Hey your code ran sucessfully\")"
   ]
  },
  {
   "cell_type": "code",
   "execution_count": 17,
   "id": "c92138a1",
   "metadata": {},
   "outputs": [
    {
     "name": "stdout",
     "output_type": "stream",
     "text": [
      "Enter the index in integer-1\n",
      "guava\n",
      "Hey your code ran sucessfully\n"
     ]
    }
   ],
   "source": [
    "try:\n",
    "    list_of_fruits = [\"mango\",\"apple\",\"litchi\",\"guava\"]\n",
    "    print(list_of_fruits[int(input(\"Enter the index in integer\"))])\n",
    "except IndexError:\n",
    "    print(\"Hey you are printed the index out of range\")\n",
    "else:\n",
    "    print(\"Hey your code ran sucessfully\")"
   ]
  },
  {
   "cell_type": "code",
   "execution_count": 18,
   "id": "70be436f",
   "metadata": {},
   "outputs": [
    {
     "name": "stdout",
     "output_type": "stream",
     "text": [
      "Enter the index in integer10\n",
      "Hey you are printed the index out of range\n"
     ]
    }
   ],
   "source": [
    "try:\n",
    "    list_of_fruits = [\"mango\",\"apple\",\"litchi\",\"guava\"]\n",
    "    print(list_of_fruits[int(input(\"Enter the index in integer\"))])\n",
    "except IndexError:\n",
    "    print(\"Hey you are printed the index out of range\")\n",
    "else:\n",
    "    print(\"Hey your code ran sucessfully\")"
   ]
  },
  {
   "cell_type": "code",
   "execution_count": 19,
   "id": "4b35c7e4",
   "metadata": {},
   "outputs": [
    {
     "name": "stdout",
     "output_type": "stream",
     "text": [
      "Enter the index in integervinay\n"
     ]
    },
    {
     "ename": "ValueError",
     "evalue": "invalid literal for int() with base 10: 'vinay'",
     "output_type": "error",
     "traceback": [
      "\u001b[1;31m---------------------------------------------------------------------------\u001b[0m",
      "\u001b[1;31mValueError\u001b[0m                                Traceback (most recent call last)",
      "Input \u001b[1;32mIn [19]\u001b[0m, in \u001b[0;36m<cell line: 1>\u001b[1;34m()\u001b[0m\n\u001b[0;32m      1\u001b[0m \u001b[38;5;28;01mtry\u001b[39;00m:\n\u001b[0;32m      2\u001b[0m     list_of_fruits \u001b[38;5;241m=\u001b[39m [\u001b[38;5;124m\"\u001b[39m\u001b[38;5;124mmango\u001b[39m\u001b[38;5;124m\"\u001b[39m,\u001b[38;5;124m\"\u001b[39m\u001b[38;5;124mapple\u001b[39m\u001b[38;5;124m\"\u001b[39m,\u001b[38;5;124m\"\u001b[39m\u001b[38;5;124mlitchi\u001b[39m\u001b[38;5;124m\"\u001b[39m,\u001b[38;5;124m\"\u001b[39m\u001b[38;5;124mguava\u001b[39m\u001b[38;5;124m\"\u001b[39m]\n\u001b[1;32m----> 3\u001b[0m     \u001b[38;5;28mprint\u001b[39m(list_of_fruits[\u001b[38;5;28;43mint\u001b[39;49m\u001b[43m(\u001b[49m\u001b[38;5;28;43minput\u001b[39;49m\u001b[43m(\u001b[49m\u001b[38;5;124;43m\"\u001b[39;49m\u001b[38;5;124;43mEnter the index in integer\u001b[39;49m\u001b[38;5;124;43m\"\u001b[39;49m\u001b[43m)\u001b[49m\u001b[43m)\u001b[49m])\n\u001b[0;32m      4\u001b[0m \u001b[38;5;28;01mexcept\u001b[39;00m \u001b[38;5;167;01mIndexError\u001b[39;00m:\n\u001b[0;32m      5\u001b[0m     \u001b[38;5;28mprint\u001b[39m(\u001b[38;5;124m\"\u001b[39m\u001b[38;5;124mHey you are printed the index out of range\u001b[39m\u001b[38;5;124m\"\u001b[39m)\n",
      "\u001b[1;31mValueError\u001b[0m: invalid literal for int() with base 10: 'vinay'"
     ]
    }
   ],
   "source": [
    "#5 ValueError\n",
    "try:\n",
    "    list_of_fruits = [\"mango\",\"apple\",\"litchi\",\"guava\"]\n",
    "    print(list_of_fruits[int(input(\"Enter the index in integer\"))])\n",
    "except IndexError:\n",
    "    print(\"Hey you are printed the index out of range\")\n",
    "else:\n",
    "    print(\"Hey your code ran sucessfully\")"
   ]
  },
  {
   "cell_type": "code",
   "execution_count": 20,
   "id": "e874bdbb",
   "metadata": {},
   "outputs": [
    {
     "name": "stdout",
     "output_type": "stream",
     "text": [
      "Enter the index in integervinay\n",
      "Hey only print number\n"
     ]
    }
   ],
   "source": [
    "try:\n",
    "    list_of_fruits = [\"mango\",\"apple\",\"litchi\",\"guava\"]\n",
    "    print(list_of_fruits[int(input(\"Enter the index in integer\"))])\n",
    "except IndexError:\n",
    "    print(\"Hey you are printed the index out of range\")\n",
    "except ValueError:\n",
    "    print(\"Hey only print number\")\n",
    "else:\n",
    "    print(\"Hey your code ran sucessfully\")"
   ]
  },
  {
   "cell_type": "code",
   "execution_count": 23,
   "id": "83cebedd",
   "metadata": {},
   "outputs": [
    {
     "name": "stdout",
     "output_type": "stream",
     "text": [
      "vn\n",
      "invalid literal for int() with base 10: 'vn'\n"
     ]
    }
   ],
   "source": [
    "try:\n",
    "    x = int(input())\n",
    "    d = 1234//x\n",
    "    print(\"It will not run\")\n",
    "except ZeroDivisionError:\n",
    "    print(\"Hey you have divided it by zero\")\n",
    "except Exception as e:\n",
    "    print(e)\n",
    "else:\n",
    "    print(\"Hey I am still working\")"
   ]
  },
  {
   "cell_type": "code",
   "execution_count": 25,
   "id": "35b5945e",
   "metadata": {},
   "outputs": [
    {
     "name": "stdout",
     "output_type": "stream",
     "text": [
      "5\n",
      "It will not run\n",
      "Hey I am still working\n",
      "Hey the code is finally run\n"
     ]
    }
   ],
   "source": [
    "#6 finally\n",
    "try:\n",
    "    x = int(input())\n",
    "    d = 1234//x\n",
    "    print(\"It will not run\")\n",
    "except ZeroDivisionError:\n",
    "    print(\"Hey you have divided it by zero\")\n",
    "except Exception as e:\n",
    "    print(e)\n",
    "else:\n",
    "    print(\"Hey I am still working\")\n",
    "finally:\n",
    "    print(\"Hey the code is finally run\")\n",
    "    "
   ]
  },
  {
   "cell_type": "code",
   "execution_count": 26,
   "id": "03fd23a9",
   "metadata": {},
   "outputs": [
    {
     "name": "stdout",
     "output_type": "stream",
     "text": [
      "0\n",
      "Hey you have divided it by zero\n",
      "Hey the code is finally run\n"
     ]
    }
   ],
   "source": [
    "try:\n",
    "    x = int(input())\n",
    "    d = 1234//x\n",
    "    print(\"It will not run\")\n",
    "except ZeroDivisionError:\n",
    "    print(\"Hey you have divided it by zero\")\n",
    "except Exception as e:\n",
    "    print(e)\n",
    "else:\n",
    "    print(\"Hey I am still working\")\n",
    "finally:\n",
    "    print(\"Hey the code is finally run\")"
   ]
  },
  {
   "cell_type": "code",
   "execution_count": 2,
   "id": "4cb117b9",
   "metadata": {},
   "outputs": [
    {
     "name": "stdout",
     "output_type": "stream",
     "text": [
      "vn\n",
      "invalid literal for int() with base 10: 'vn'\n",
      "Hey the code is finally run\n"
     ]
    }
   ],
   "source": [
    "try:\n",
    "    x = int(input())\n",
    "    d = 1234//x\n",
    "    print(\"It will not run\")\n",
    "except ZeroDivisionError:\n",
    "    print(\"Hey you have divided it by zero\")\n",
    "except Exception as e:\n",
    "    print(e)\n",
    "else:\n",
    "    print(\"Hey I am still working\")\n",
    "finally:\n",
    "    print(\"Hey the code is finally run\")"
   ]
  },
  {
   "cell_type": "code",
   "execution_count": null,
   "id": "173a8559",
   "metadata": {},
   "outputs": [],
   "source": []
  }
 ],
 "metadata": {
  "kernelspec": {
   "display_name": "Python 3 (ipykernel)",
   "language": "python",
   "name": "python3"
  },
  "language_info": {
   "codemirror_mode": {
    "name": "ipython",
    "version": 3
   },
   "file_extension": ".py",
   "mimetype": "text/x-python",
   "name": "python",
   "nbconvert_exporter": "python",
   "pygments_lexer": "ipython3",
   "version": "3.10.3"
  }
 },
 "nbformat": 4,
 "nbformat_minor": 5
}

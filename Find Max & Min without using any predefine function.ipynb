{
 "cells": [
  {
   "cell_type": "code",
   "execution_count": 7,
   "id": "253cc439",
   "metadata": {},
   "outputs": [
    {
     "name": "stdout",
     "output_type": "stream",
     "text": [
      "The Maximum number given the list is  99\n",
      "The Minimum number given the list is  25\n"
     ]
    }
   ],
   "source": [
    "list = [25,36,45,65,48,75,99]\n",
    "maximum = list[0]\n",
    "minimum = list[0]\n",
    "for i in list:\n",
    "    if i>maximum:\n",
    "        maximum = i\n",
    "    if i<minimum:\n",
    "        maximum = i\n",
    "print(\"The Maximum number given the list is \", maximum)\n",
    "print(\"The Minimum number given the list is \",minimum)"
   ]
  },
  {
   "cell_type": "code",
   "execution_count": null,
   "id": "eb71eb97",
   "metadata": {},
   "outputs": [],
   "source": []
  }
 ],
 "metadata": {
  "kernelspec": {
   "display_name": "Python 3 (ipykernel)",
   "language": "python",
   "name": "python3"
  },
  "language_info": {
   "codemirror_mode": {
    "name": "ipython",
    "version": 3
   },
   "file_extension": ".py",
   "mimetype": "text/x-python",
   "name": "python",
   "nbconvert_exporter": "python",
   "pygments_lexer": "ipython3",
   "version": "3.10.3"
  }
 },
 "nbformat": 4,
 "nbformat_minor": 5
}
